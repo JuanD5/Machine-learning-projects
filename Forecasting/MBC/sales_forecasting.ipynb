{
 "cells": [
  {
   "cell_type": "markdown",
   "source": [
    "# Technical assesment - Juan David García Castro "
   ],
   "metadata": {}
  },
  {
   "cell_type": "markdown",
   "source": [
    "# 1) Data loading a processing."
   ],
   "metadata": {}
  },
  {
   "cell_type": "code",
   "execution_count": 1,
   "source": [
    "import os\r\n",
    "import numpy as np\r\n",
    "import pandas as pd, datetime\r\n",
    "import seaborn as sns\r\n",
    "import matplotlib.pyplot as plt\r\n",
    "import plotly.express as px\r\n",
    "import itertools\r\n",
    "import xgboost as xgb\r\n",
    "import warnings\r\n",
    "from time import time\r\n",
    "from math import sqrt\r\n",
    "from statsmodels.tsa.seasonal import seasonal_decompose\r\n",
    "from statsmodels.graphics.tsaplots import plot_acf, plot_pacf\r\n",
    "from statsmodels.tsa.stattools import adfuller\r\n",
    "import statsmodels.api as sm\r\n",
    "from statsmodels.tsa.stattools import acf,pacf\r\n",
    "from statsmodels.tsa.arima_model import  ARIMA\r\n",
    "from sklearn import model_selection\r\n",
    "from sklearn.metrics import mean_squared_error, r2_score\r\n",
    "from pandas import DataFrame\r\n",
    "from fbprophet import Prophet\r\n",
    "\r\n",
    "warnings.filterwarnings('ignore')\r\n",
    "get_ipython().run_line_magic('matplotlib', 'inline')\r\n",
    "\r\n"
   ],
   "outputs": [],
   "metadata": {}
  },
  {
   "cell_type": "code",
   "execution_count": 2,
   "source": [
    "df = pd.read_csv('./input (1).csv')"
   ],
   "outputs": [],
   "metadata": {}
  },
  {
   "cell_type": "code",
   "execution_count": 3,
   "source": [
    "df.head()"
   ],
   "outputs": [
    {
     "output_type": "execute_result",
     "data": {
      "text/html": [
       "<div>\n",
       "<style scoped>\n",
       "    .dataframe tbody tr th:only-of-type {\n",
       "        vertical-align: middle;\n",
       "    }\n",
       "\n",
       "    .dataframe tbody tr th {\n",
       "        vertical-align: top;\n",
       "    }\n",
       "\n",
       "    .dataframe thead th {\n",
       "        text-align: right;\n",
       "    }\n",
       "</style>\n",
       "<table border=\"1\" class=\"dataframe\">\n",
       "  <thead>\n",
       "    <tr style=\"text-align: right;\">\n",
       "      <th></th>\n",
       "      <th>dt</th>\n",
       "      <th>grp_A_1</th>\n",
       "      <th>grp_B_1</th>\n",
       "      <th>grp_A_2</th>\n",
       "      <th>grp_B_2</th>\n",
       "      <th>grp_A_3</th>\n",
       "      <th>grp_B_3</th>\n",
       "      <th>grp_A_4</th>\n",
       "      <th>grp_B_4</th>\n",
       "      <th>grp_A_5</th>\n",
       "      <th>...</th>\n",
       "      <th>Day</th>\n",
       "      <th>Dayofweek</th>\n",
       "      <th>Dayofyear</th>\n",
       "      <th>Is_month_end</th>\n",
       "      <th>Is_month_start</th>\n",
       "      <th>Is_quarter_end</th>\n",
       "      <th>Is_quarter_start</th>\n",
       "      <th>Is_year_end</th>\n",
       "      <th>Is_year_start</th>\n",
       "      <th>units_sold</th>\n",
       "    </tr>\n",
       "  </thead>\n",
       "  <tbody>\n",
       "    <tr>\n",
       "      <th>0</th>\n",
       "      <td>11/7/2017</td>\n",
       "      <td>389.5</td>\n",
       "      <td>56.63</td>\n",
       "      <td>8392.0</td>\n",
       "      <td>52.125</td>\n",
       "      <td>8462.0</td>\n",
       "      <td>33.875</td>\n",
       "      <td>1177.0</td>\n",
       "      <td>15.375</td>\n",
       "      <td>170428.0</td>\n",
       "      <td>...</td>\n",
       "      <td>11.0</td>\n",
       "      <td>1.0</td>\n",
       "      <td>192.0</td>\n",
       "      <td>0.0</td>\n",
       "      <td>0.0</td>\n",
       "      <td>0.0</td>\n",
       "      <td>0.0</td>\n",
       "      <td>0.0</td>\n",
       "      <td>0.0</td>\n",
       "      <td>17.0</td>\n",
       "    </tr>\n",
       "    <tr>\n",
       "      <th>1</th>\n",
       "      <td>12/7/2017</td>\n",
       "      <td>389.5</td>\n",
       "      <td>56.63</td>\n",
       "      <td>8392.0</td>\n",
       "      <td>52.125</td>\n",
       "      <td>8462.0</td>\n",
       "      <td>33.875</td>\n",
       "      <td>1177.0</td>\n",
       "      <td>15.375</td>\n",
       "      <td>170428.0</td>\n",
       "      <td>...</td>\n",
       "      <td>12.0</td>\n",
       "      <td>2.0</td>\n",
       "      <td>193.0</td>\n",
       "      <td>0.0</td>\n",
       "      <td>0.0</td>\n",
       "      <td>0.0</td>\n",
       "      <td>0.0</td>\n",
       "      <td>0.0</td>\n",
       "      <td>0.0</td>\n",
       "      <td>23.0</td>\n",
       "    </tr>\n",
       "    <tr>\n",
       "      <th>2</th>\n",
       "      <td>13/07/2017</td>\n",
       "      <td>389.5</td>\n",
       "      <td>56.63</td>\n",
       "      <td>8392.0</td>\n",
       "      <td>52.125</td>\n",
       "      <td>8462.0</td>\n",
       "      <td>33.875</td>\n",
       "      <td>1177.0</td>\n",
       "      <td>15.375</td>\n",
       "      <td>170428.0</td>\n",
       "      <td>...</td>\n",
       "      <td>13.0</td>\n",
       "      <td>3.0</td>\n",
       "      <td>194.0</td>\n",
       "      <td>0.0</td>\n",
       "      <td>0.0</td>\n",
       "      <td>0.0</td>\n",
       "      <td>0.0</td>\n",
       "      <td>0.0</td>\n",
       "      <td>0.0</td>\n",
       "      <td>19.0</td>\n",
       "    </tr>\n",
       "    <tr>\n",
       "      <th>3</th>\n",
       "      <td>14/07/2017</td>\n",
       "      <td>389.5</td>\n",
       "      <td>56.63</td>\n",
       "      <td>8392.0</td>\n",
       "      <td>52.125</td>\n",
       "      <td>8462.0</td>\n",
       "      <td>33.875</td>\n",
       "      <td>1177.0</td>\n",
       "      <td>15.375</td>\n",
       "      <td>170428.0</td>\n",
       "      <td>...</td>\n",
       "      <td>14.0</td>\n",
       "      <td>4.0</td>\n",
       "      <td>195.0</td>\n",
       "      <td>0.0</td>\n",
       "      <td>0.0</td>\n",
       "      <td>0.0</td>\n",
       "      <td>0.0</td>\n",
       "      <td>0.0</td>\n",
       "      <td>0.0</td>\n",
       "      <td>15.0</td>\n",
       "    </tr>\n",
       "    <tr>\n",
       "      <th>4</th>\n",
       "      <td>15/07/2017</td>\n",
       "      <td>389.5</td>\n",
       "      <td>56.63</td>\n",
       "      <td>8392.0</td>\n",
       "      <td>52.125</td>\n",
       "      <td>8462.0</td>\n",
       "      <td>33.875</td>\n",
       "      <td>1177.0</td>\n",
       "      <td>15.375</td>\n",
       "      <td>170428.0</td>\n",
       "      <td>...</td>\n",
       "      <td>15.0</td>\n",
       "      <td>5.0</td>\n",
       "      <td>196.0</td>\n",
       "      <td>0.0</td>\n",
       "      <td>0.0</td>\n",
       "      <td>0.0</td>\n",
       "      <td>0.0</td>\n",
       "      <td>0.0</td>\n",
       "      <td>0.0</td>\n",
       "      <td>18.0</td>\n",
       "    </tr>\n",
       "  </tbody>\n",
       "</table>\n",
       "<p>5 rows × 129 columns</p>\n",
       "</div>"
      ],
      "text/plain": [
       "           dt  grp_A_1  grp_B_1  grp_A_2  grp_B_2  grp_A_3  grp_B_3  grp_A_4  \\\n",
       "0   11/7/2017    389.5    56.63   8392.0   52.125   8462.0   33.875   1177.0   \n",
       "1   12/7/2017    389.5    56.63   8392.0   52.125   8462.0   33.875   1177.0   \n",
       "2  13/07/2017    389.5    56.63   8392.0   52.125   8462.0   33.875   1177.0   \n",
       "3  14/07/2017    389.5    56.63   8392.0   52.125   8462.0   33.875   1177.0   \n",
       "4  15/07/2017    389.5    56.63   8392.0   52.125   8462.0   33.875   1177.0   \n",
       "\n",
       "   grp_B_4   grp_A_5  ...   Day  Dayofweek  Dayofyear  Is_month_end  \\\n",
       "0   15.375  170428.0  ...  11.0        1.0      192.0           0.0   \n",
       "1   15.375  170428.0  ...  12.0        2.0      193.0           0.0   \n",
       "2   15.375  170428.0  ...  13.0        3.0      194.0           0.0   \n",
       "3   15.375  170428.0  ...  14.0        4.0      195.0           0.0   \n",
       "4   15.375  170428.0  ...  15.0        5.0      196.0           0.0   \n",
       "\n",
       "   Is_month_start  Is_quarter_end  Is_quarter_start  Is_year_end  \\\n",
       "0             0.0             0.0               0.0          0.0   \n",
       "1             0.0             0.0               0.0          0.0   \n",
       "2             0.0             0.0               0.0          0.0   \n",
       "3             0.0             0.0               0.0          0.0   \n",
       "4             0.0             0.0               0.0          0.0   \n",
       "\n",
       "   Is_year_start  units_sold  \n",
       "0            0.0        17.0  \n",
       "1            0.0        23.0  \n",
       "2            0.0        19.0  \n",
       "3            0.0        15.0  \n",
       "4            0.0        18.0  \n",
       "\n",
       "[5 rows x 129 columns]"
      ]
     },
     "metadata": {},
     "execution_count": 3
    }
   ],
   "metadata": {}
  },
  {
   "cell_type": "code",
   "execution_count": 4,
   "source": [
    "df.tail()"
   ],
   "outputs": [
    {
     "output_type": "execute_result",
     "data": {
      "text/html": [
       "<div>\n",
       "<style scoped>\n",
       "    .dataframe tbody tr th:only-of-type {\n",
       "        vertical-align: middle;\n",
       "    }\n",
       "\n",
       "    .dataframe tbody tr th {\n",
       "        vertical-align: top;\n",
       "    }\n",
       "\n",
       "    .dataframe thead th {\n",
       "        text-align: right;\n",
       "    }\n",
       "</style>\n",
       "<table border=\"1\" class=\"dataframe\">\n",
       "  <thead>\n",
       "    <tr style=\"text-align: right;\">\n",
       "      <th></th>\n",
       "      <th>dt</th>\n",
       "      <th>grp_A_1</th>\n",
       "      <th>grp_B_1</th>\n",
       "      <th>grp_A_2</th>\n",
       "      <th>grp_B_2</th>\n",
       "      <th>grp_A_3</th>\n",
       "      <th>grp_B_3</th>\n",
       "      <th>grp_A_4</th>\n",
       "      <th>grp_B_4</th>\n",
       "      <th>grp_A_5</th>\n",
       "      <th>...</th>\n",
       "      <th>Day</th>\n",
       "      <th>Dayofweek</th>\n",
       "      <th>Dayofyear</th>\n",
       "      <th>Is_month_end</th>\n",
       "      <th>Is_month_start</th>\n",
       "      <th>Is_quarter_end</th>\n",
       "      <th>Is_quarter_start</th>\n",
       "      <th>Is_year_end</th>\n",
       "      <th>Is_year_start</th>\n",
       "      <th>units_sold</th>\n",
       "    </tr>\n",
       "  </thead>\n",
       "  <tbody>\n",
       "    <tr>\n",
       "      <th>748</th>\n",
       "      <td>29/07/2019</td>\n",
       "      <td>260.50</td>\n",
       "      <td>70.91</td>\n",
       "      <td>13397.0</td>\n",
       "      <td>66.867857</td>\n",
       "      <td>6058.428571</td>\n",
       "      <td>41.346429</td>\n",
       "      <td>2484.0</td>\n",
       "      <td>28.017857</td>\n",
       "      <td>228112.4286</td>\n",
       "      <td>...</td>\n",
       "      <td>29.0</td>\n",
       "      <td>0.0</td>\n",
       "      <td>210.0</td>\n",
       "      <td>0.0</td>\n",
       "      <td>0.0</td>\n",
       "      <td>0.0</td>\n",
       "      <td>0.0</td>\n",
       "      <td>0.0</td>\n",
       "      <td>0.0</td>\n",
       "      <td>182.0</td>\n",
       "    </tr>\n",
       "    <tr>\n",
       "      <th>749</th>\n",
       "      <td>30/07/2019</td>\n",
       "      <td>249.50</td>\n",
       "      <td>70.70</td>\n",
       "      <td>13008.0</td>\n",
       "      <td>66.110714</td>\n",
       "      <td>5902.857143</td>\n",
       "      <td>38.817857</td>\n",
       "      <td>2468.0</td>\n",
       "      <td>28.660714</td>\n",
       "      <td>221786.8571</td>\n",
       "      <td>...</td>\n",
       "      <td>30.0</td>\n",
       "      <td>1.0</td>\n",
       "      <td>211.0</td>\n",
       "      <td>0.0</td>\n",
       "      <td>0.0</td>\n",
       "      <td>0.0</td>\n",
       "      <td>0.0</td>\n",
       "      <td>0.0</td>\n",
       "      <td>0.0</td>\n",
       "      <td>146.0</td>\n",
       "    </tr>\n",
       "    <tr>\n",
       "      <th>750</th>\n",
       "      <td>31/07/2019</td>\n",
       "      <td>238.50</td>\n",
       "      <td>70.48</td>\n",
       "      <td>12619.0</td>\n",
       "      <td>65.353571</td>\n",
       "      <td>5747.285714</td>\n",
       "      <td>36.289286</td>\n",
       "      <td>2452.0</td>\n",
       "      <td>29.303571</td>\n",
       "      <td>215461.2857</td>\n",
       "      <td>...</td>\n",
       "      <td>31.0</td>\n",
       "      <td>2.0</td>\n",
       "      <td>212.0</td>\n",
       "      <td>1.0</td>\n",
       "      <td>0.0</td>\n",
       "      <td>0.0</td>\n",
       "      <td>0.0</td>\n",
       "      <td>0.0</td>\n",
       "      <td>0.0</td>\n",
       "      <td>133.0</td>\n",
       "    </tr>\n",
       "    <tr>\n",
       "      <th>751</th>\n",
       "      <td>NaN</td>\n",
       "      <td>NaN</td>\n",
       "      <td>NaN</td>\n",
       "      <td>NaN</td>\n",
       "      <td>NaN</td>\n",
       "      <td>NaN</td>\n",
       "      <td>NaN</td>\n",
       "      <td>NaN</td>\n",
       "      <td>NaN</td>\n",
       "      <td>NaN</td>\n",
       "      <td>...</td>\n",
       "      <td>NaN</td>\n",
       "      <td>NaN</td>\n",
       "      <td>NaN</td>\n",
       "      <td>NaN</td>\n",
       "      <td>NaN</td>\n",
       "      <td>NaN</td>\n",
       "      <td>NaN</td>\n",
       "      <td>NaN</td>\n",
       "      <td>NaN</td>\n",
       "      <td>NaN</td>\n",
       "    </tr>\n",
       "    <tr>\n",
       "      <th>752</th>\n",
       "      <td>NaN</td>\n",
       "      <td>-0.91</td>\n",
       "      <td>NaN</td>\n",
       "      <td>NaN</td>\n",
       "      <td>NaN</td>\n",
       "      <td>NaN</td>\n",
       "      <td>NaN</td>\n",
       "      <td>NaN</td>\n",
       "      <td>NaN</td>\n",
       "      <td>NaN</td>\n",
       "      <td>...</td>\n",
       "      <td>NaN</td>\n",
       "      <td>NaN</td>\n",
       "      <td>NaN</td>\n",
       "      <td>NaN</td>\n",
       "      <td>NaN</td>\n",
       "      <td>NaN</td>\n",
       "      <td>NaN</td>\n",
       "      <td>NaN</td>\n",
       "      <td>NaN</td>\n",
       "      <td>NaN</td>\n",
       "    </tr>\n",
       "  </tbody>\n",
       "</table>\n",
       "<p>5 rows × 129 columns</p>\n",
       "</div>"
      ],
      "text/plain": [
       "             dt  grp_A_1  grp_B_1  grp_A_2    grp_B_2      grp_A_3    grp_B_3  \\\n",
       "748  29/07/2019   260.50    70.91  13397.0  66.867857  6058.428571  41.346429   \n",
       "749  30/07/2019   249.50    70.70  13008.0  66.110714  5902.857143  38.817857   \n",
       "750  31/07/2019   238.50    70.48  12619.0  65.353571  5747.285714  36.289286   \n",
       "751         NaN      NaN      NaN      NaN        NaN          NaN        NaN   \n",
       "752         NaN    -0.91      NaN      NaN        NaN          NaN        NaN   \n",
       "\n",
       "     grp_A_4    grp_B_4      grp_A_5  ...   Day  Dayofweek  Dayofyear  \\\n",
       "748   2484.0  28.017857  228112.4286  ...  29.0        0.0      210.0   \n",
       "749   2468.0  28.660714  221786.8571  ...  30.0        1.0      211.0   \n",
       "750   2452.0  29.303571  215461.2857  ...  31.0        2.0      212.0   \n",
       "751      NaN        NaN          NaN  ...   NaN        NaN        NaN   \n",
       "752      NaN        NaN          NaN  ...   NaN        NaN        NaN   \n",
       "\n",
       "     Is_month_end  Is_month_start  Is_quarter_end  Is_quarter_start  \\\n",
       "748           0.0             0.0             0.0               0.0   \n",
       "749           0.0             0.0             0.0               0.0   \n",
       "750           1.0             0.0             0.0               0.0   \n",
       "751           NaN             NaN             NaN               NaN   \n",
       "752           NaN             NaN             NaN               NaN   \n",
       "\n",
       "     Is_year_end  Is_year_start  units_sold  \n",
       "748          0.0            0.0       182.0  \n",
       "749          0.0            0.0       146.0  \n",
       "750          0.0            0.0       133.0  \n",
       "751          NaN            NaN         NaN  \n",
       "752          NaN            NaN         NaN  \n",
       "\n",
       "[5 rows x 129 columns]"
      ]
     },
     "metadata": {},
     "execution_count": 4
    }
   ],
   "metadata": {}
  },
  {
   "cell_type": "code",
   "execution_count": 5,
   "source": [
    "df.shape"
   ],
   "outputs": [
    {
     "output_type": "execute_result",
     "data": {
      "text/plain": [
       "(753, 129)"
      ]
     },
     "metadata": {},
     "execution_count": 5
    }
   ],
   "metadata": {}
  },
  {
   "cell_type": "markdown",
   "source": [
    "## Data information.\r\n",
    "\r\n",
    "* Daily sales data from an online store of one product. \r\n",
    "\r\n",
    "* The dependent variable is units_sold \r\n",
    "\r\n",
    "* We have data until July 31 of the year 2019\r\n"
   ],
   "metadata": {}
  },
  {
   "cell_type": "markdown",
   "source": [
    "### Converting **dt** column to date_time format. This works better for _ARIMA_ and _SARIMAX_ algorithms."
   ],
   "metadata": {}
  },
  {
   "cell_type": "code",
   "execution_count": 6,
   "source": [
    "df.rename(columns={'dt': 'date','units_sold':'sales'},inplace=True)\r\n"
   ],
   "outputs": [],
   "metadata": {}
  },
  {
   "cell_type": "code",
   "execution_count": 7,
   "source": [
    "df['date'] = pd.to_datetime(df['date'])"
   ],
   "outputs": [],
   "metadata": {}
  },
  {
   "cell_type": "code",
   "execution_count": 8,
   "source": [
    "df.head()"
   ],
   "outputs": [
    {
     "output_type": "execute_result",
     "data": {
      "text/html": [
       "<div>\n",
       "<style scoped>\n",
       "    .dataframe tbody tr th:only-of-type {\n",
       "        vertical-align: middle;\n",
       "    }\n",
       "\n",
       "    .dataframe tbody tr th {\n",
       "        vertical-align: top;\n",
       "    }\n",
       "\n",
       "    .dataframe thead th {\n",
       "        text-align: right;\n",
       "    }\n",
       "</style>\n",
       "<table border=\"1\" class=\"dataframe\">\n",
       "  <thead>\n",
       "    <tr style=\"text-align: right;\">\n",
       "      <th></th>\n",
       "      <th>date</th>\n",
       "      <th>grp_A_1</th>\n",
       "      <th>grp_B_1</th>\n",
       "      <th>grp_A_2</th>\n",
       "      <th>grp_B_2</th>\n",
       "      <th>grp_A_3</th>\n",
       "      <th>grp_B_3</th>\n",
       "      <th>grp_A_4</th>\n",
       "      <th>grp_B_4</th>\n",
       "      <th>grp_A_5</th>\n",
       "      <th>...</th>\n",
       "      <th>Day</th>\n",
       "      <th>Dayofweek</th>\n",
       "      <th>Dayofyear</th>\n",
       "      <th>Is_month_end</th>\n",
       "      <th>Is_month_start</th>\n",
       "      <th>Is_quarter_end</th>\n",
       "      <th>Is_quarter_start</th>\n",
       "      <th>Is_year_end</th>\n",
       "      <th>Is_year_start</th>\n",
       "      <th>sales</th>\n",
       "    </tr>\n",
       "  </thead>\n",
       "  <tbody>\n",
       "    <tr>\n",
       "      <th>0</th>\n",
       "      <td>2017-11-07</td>\n",
       "      <td>389.5</td>\n",
       "      <td>56.63</td>\n",
       "      <td>8392.0</td>\n",
       "      <td>52.125</td>\n",
       "      <td>8462.0</td>\n",
       "      <td>33.875</td>\n",
       "      <td>1177.0</td>\n",
       "      <td>15.375</td>\n",
       "      <td>170428.0</td>\n",
       "      <td>...</td>\n",
       "      <td>11.0</td>\n",
       "      <td>1.0</td>\n",
       "      <td>192.0</td>\n",
       "      <td>0.0</td>\n",
       "      <td>0.0</td>\n",
       "      <td>0.0</td>\n",
       "      <td>0.0</td>\n",
       "      <td>0.0</td>\n",
       "      <td>0.0</td>\n",
       "      <td>17.0</td>\n",
       "    </tr>\n",
       "    <tr>\n",
       "      <th>1</th>\n",
       "      <td>2017-12-07</td>\n",
       "      <td>389.5</td>\n",
       "      <td>56.63</td>\n",
       "      <td>8392.0</td>\n",
       "      <td>52.125</td>\n",
       "      <td>8462.0</td>\n",
       "      <td>33.875</td>\n",
       "      <td>1177.0</td>\n",
       "      <td>15.375</td>\n",
       "      <td>170428.0</td>\n",
       "      <td>...</td>\n",
       "      <td>12.0</td>\n",
       "      <td>2.0</td>\n",
       "      <td>193.0</td>\n",
       "      <td>0.0</td>\n",
       "      <td>0.0</td>\n",
       "      <td>0.0</td>\n",
       "      <td>0.0</td>\n",
       "      <td>0.0</td>\n",
       "      <td>0.0</td>\n",
       "      <td>23.0</td>\n",
       "    </tr>\n",
       "    <tr>\n",
       "      <th>2</th>\n",
       "      <td>2017-07-13</td>\n",
       "      <td>389.5</td>\n",
       "      <td>56.63</td>\n",
       "      <td>8392.0</td>\n",
       "      <td>52.125</td>\n",
       "      <td>8462.0</td>\n",
       "      <td>33.875</td>\n",
       "      <td>1177.0</td>\n",
       "      <td>15.375</td>\n",
       "      <td>170428.0</td>\n",
       "      <td>...</td>\n",
       "      <td>13.0</td>\n",
       "      <td>3.0</td>\n",
       "      <td>194.0</td>\n",
       "      <td>0.0</td>\n",
       "      <td>0.0</td>\n",
       "      <td>0.0</td>\n",
       "      <td>0.0</td>\n",
       "      <td>0.0</td>\n",
       "      <td>0.0</td>\n",
       "      <td>19.0</td>\n",
       "    </tr>\n",
       "    <tr>\n",
       "      <th>3</th>\n",
       "      <td>2017-07-14</td>\n",
       "      <td>389.5</td>\n",
       "      <td>56.63</td>\n",
       "      <td>8392.0</td>\n",
       "      <td>52.125</td>\n",
       "      <td>8462.0</td>\n",
       "      <td>33.875</td>\n",
       "      <td>1177.0</td>\n",
       "      <td>15.375</td>\n",
       "      <td>170428.0</td>\n",
       "      <td>...</td>\n",
       "      <td>14.0</td>\n",
       "      <td>4.0</td>\n",
       "      <td>195.0</td>\n",
       "      <td>0.0</td>\n",
       "      <td>0.0</td>\n",
       "      <td>0.0</td>\n",
       "      <td>0.0</td>\n",
       "      <td>0.0</td>\n",
       "      <td>0.0</td>\n",
       "      <td>15.0</td>\n",
       "    </tr>\n",
       "    <tr>\n",
       "      <th>4</th>\n",
       "      <td>2017-07-15</td>\n",
       "      <td>389.5</td>\n",
       "      <td>56.63</td>\n",
       "      <td>8392.0</td>\n",
       "      <td>52.125</td>\n",
       "      <td>8462.0</td>\n",
       "      <td>33.875</td>\n",
       "      <td>1177.0</td>\n",
       "      <td>15.375</td>\n",
       "      <td>170428.0</td>\n",
       "      <td>...</td>\n",
       "      <td>15.0</td>\n",
       "      <td>5.0</td>\n",
       "      <td>196.0</td>\n",
       "      <td>0.0</td>\n",
       "      <td>0.0</td>\n",
       "      <td>0.0</td>\n",
       "      <td>0.0</td>\n",
       "      <td>0.0</td>\n",
       "      <td>0.0</td>\n",
       "      <td>18.0</td>\n",
       "    </tr>\n",
       "  </tbody>\n",
       "</table>\n",
       "<p>5 rows × 129 columns</p>\n",
       "</div>"
      ],
      "text/plain": [
       "        date  grp_A_1  grp_B_1  grp_A_2  grp_B_2  grp_A_3  grp_B_3  grp_A_4  \\\n",
       "0 2017-11-07    389.5    56.63   8392.0   52.125   8462.0   33.875   1177.0   \n",
       "1 2017-12-07    389.5    56.63   8392.0   52.125   8462.0   33.875   1177.0   \n",
       "2 2017-07-13    389.5    56.63   8392.0   52.125   8462.0   33.875   1177.0   \n",
       "3 2017-07-14    389.5    56.63   8392.0   52.125   8462.0   33.875   1177.0   \n",
       "4 2017-07-15    389.5    56.63   8392.0   52.125   8462.0   33.875   1177.0   \n",
       "\n",
       "   grp_B_4   grp_A_5  ...   Day  Dayofweek  Dayofyear  Is_month_end  \\\n",
       "0   15.375  170428.0  ...  11.0        1.0      192.0           0.0   \n",
       "1   15.375  170428.0  ...  12.0        2.0      193.0           0.0   \n",
       "2   15.375  170428.0  ...  13.0        3.0      194.0           0.0   \n",
       "3   15.375  170428.0  ...  14.0        4.0      195.0           0.0   \n",
       "4   15.375  170428.0  ...  15.0        5.0      196.0           0.0   \n",
       "\n",
       "   Is_month_start  Is_quarter_end  Is_quarter_start  Is_year_end  \\\n",
       "0             0.0             0.0               0.0          0.0   \n",
       "1             0.0             0.0               0.0          0.0   \n",
       "2             0.0             0.0               0.0          0.0   \n",
       "3             0.0             0.0               0.0          0.0   \n",
       "4             0.0             0.0               0.0          0.0   \n",
       "\n",
       "   Is_year_start  sales  \n",
       "0            0.0   17.0  \n",
       "1            0.0   23.0  \n",
       "2            0.0   19.0  \n",
       "3            0.0   15.0  \n",
       "4            0.0   18.0  \n",
       "\n",
       "[5 rows x 129 columns]"
      ]
     },
     "metadata": {},
     "execution_count": 8
    }
   ],
   "metadata": {}
  },
  {
   "cell_type": "code",
   "execution_count": 9,
   "source": [
    "df['date'].head()"
   ],
   "outputs": [
    {
     "output_type": "execute_result",
     "data": {
      "text/plain": [
       "0   2017-11-07\n",
       "1   2017-12-07\n",
       "2   2017-07-13\n",
       "3   2017-07-14\n",
       "4   2017-07-15\n",
       "Name: date, dtype: datetime64[ns]"
      ]
     },
     "metadata": {},
     "execution_count": 9
    }
   ],
   "metadata": {}
  },
  {
   "cell_type": "code",
   "execution_count": 10,
   "source": [
    "df.set_index('date',inplace=True)"
   ],
   "outputs": [],
   "metadata": {}
  },
  {
   "cell_type": "code",
   "execution_count": 11,
   "source": [
    "df.head()"
   ],
   "outputs": [
    {
     "output_type": "execute_result",
     "data": {
      "text/html": [
       "<div>\n",
       "<style scoped>\n",
       "    .dataframe tbody tr th:only-of-type {\n",
       "        vertical-align: middle;\n",
       "    }\n",
       "\n",
       "    .dataframe tbody tr th {\n",
       "        vertical-align: top;\n",
       "    }\n",
       "\n",
       "    .dataframe thead th {\n",
       "        text-align: right;\n",
       "    }\n",
       "</style>\n",
       "<table border=\"1\" class=\"dataframe\">\n",
       "  <thead>\n",
       "    <tr style=\"text-align: right;\">\n",
       "      <th></th>\n",
       "      <th>grp_A_1</th>\n",
       "      <th>grp_B_1</th>\n",
       "      <th>grp_A_2</th>\n",
       "      <th>grp_B_2</th>\n",
       "      <th>grp_A_3</th>\n",
       "      <th>grp_B_3</th>\n",
       "      <th>grp_A_4</th>\n",
       "      <th>grp_B_4</th>\n",
       "      <th>grp_A_5</th>\n",
       "      <th>grp_B_5</th>\n",
       "      <th>...</th>\n",
       "      <th>Day</th>\n",
       "      <th>Dayofweek</th>\n",
       "      <th>Dayofyear</th>\n",
       "      <th>Is_month_end</th>\n",
       "      <th>Is_month_start</th>\n",
       "      <th>Is_quarter_end</th>\n",
       "      <th>Is_quarter_start</th>\n",
       "      <th>Is_year_end</th>\n",
       "      <th>Is_year_start</th>\n",
       "      <th>sales</th>\n",
       "    </tr>\n",
       "    <tr>\n",
       "      <th>date</th>\n",
       "      <th></th>\n",
       "      <th></th>\n",
       "      <th></th>\n",
       "      <th></th>\n",
       "      <th></th>\n",
       "      <th></th>\n",
       "      <th></th>\n",
       "      <th></th>\n",
       "      <th></th>\n",
       "      <th></th>\n",
       "      <th></th>\n",
       "      <th></th>\n",
       "      <th></th>\n",
       "      <th></th>\n",
       "      <th></th>\n",
       "      <th></th>\n",
       "      <th></th>\n",
       "      <th></th>\n",
       "      <th></th>\n",
       "      <th></th>\n",
       "      <th></th>\n",
       "    </tr>\n",
       "  </thead>\n",
       "  <tbody>\n",
       "    <tr>\n",
       "      <th>2017-11-07</th>\n",
       "      <td>389.5</td>\n",
       "      <td>56.63</td>\n",
       "      <td>8392.0</td>\n",
       "      <td>52.125</td>\n",
       "      <td>8462.0</td>\n",
       "      <td>33.875</td>\n",
       "      <td>1177.0</td>\n",
       "      <td>15.375</td>\n",
       "      <td>170428.0</td>\n",
       "      <td>81.25</td>\n",
       "      <td>...</td>\n",
       "      <td>11.0</td>\n",
       "      <td>1.0</td>\n",
       "      <td>192.0</td>\n",
       "      <td>0.0</td>\n",
       "      <td>0.0</td>\n",
       "      <td>0.0</td>\n",
       "      <td>0.0</td>\n",
       "      <td>0.0</td>\n",
       "      <td>0.0</td>\n",
       "      <td>17.0</td>\n",
       "    </tr>\n",
       "    <tr>\n",
       "      <th>2017-12-07</th>\n",
       "      <td>389.5</td>\n",
       "      <td>56.63</td>\n",
       "      <td>8392.0</td>\n",
       "      <td>52.125</td>\n",
       "      <td>8462.0</td>\n",
       "      <td>33.875</td>\n",
       "      <td>1177.0</td>\n",
       "      <td>15.375</td>\n",
       "      <td>170428.0</td>\n",
       "      <td>81.25</td>\n",
       "      <td>...</td>\n",
       "      <td>12.0</td>\n",
       "      <td>2.0</td>\n",
       "      <td>193.0</td>\n",
       "      <td>0.0</td>\n",
       "      <td>0.0</td>\n",
       "      <td>0.0</td>\n",
       "      <td>0.0</td>\n",
       "      <td>0.0</td>\n",
       "      <td>0.0</td>\n",
       "      <td>23.0</td>\n",
       "    </tr>\n",
       "    <tr>\n",
       "      <th>2017-07-13</th>\n",
       "      <td>389.5</td>\n",
       "      <td>56.63</td>\n",
       "      <td>8392.0</td>\n",
       "      <td>52.125</td>\n",
       "      <td>8462.0</td>\n",
       "      <td>33.875</td>\n",
       "      <td>1177.0</td>\n",
       "      <td>15.375</td>\n",
       "      <td>170428.0</td>\n",
       "      <td>81.25</td>\n",
       "      <td>...</td>\n",
       "      <td>13.0</td>\n",
       "      <td>3.0</td>\n",
       "      <td>194.0</td>\n",
       "      <td>0.0</td>\n",
       "      <td>0.0</td>\n",
       "      <td>0.0</td>\n",
       "      <td>0.0</td>\n",
       "      <td>0.0</td>\n",
       "      <td>0.0</td>\n",
       "      <td>19.0</td>\n",
       "    </tr>\n",
       "    <tr>\n",
       "      <th>2017-07-14</th>\n",
       "      <td>389.5</td>\n",
       "      <td>56.63</td>\n",
       "      <td>8392.0</td>\n",
       "      <td>52.125</td>\n",
       "      <td>8462.0</td>\n",
       "      <td>33.875</td>\n",
       "      <td>1177.0</td>\n",
       "      <td>15.375</td>\n",
       "      <td>170428.0</td>\n",
       "      <td>81.25</td>\n",
       "      <td>...</td>\n",
       "      <td>14.0</td>\n",
       "      <td>4.0</td>\n",
       "      <td>195.0</td>\n",
       "      <td>0.0</td>\n",
       "      <td>0.0</td>\n",
       "      <td>0.0</td>\n",
       "      <td>0.0</td>\n",
       "      <td>0.0</td>\n",
       "      <td>0.0</td>\n",
       "      <td>15.0</td>\n",
       "    </tr>\n",
       "    <tr>\n",
       "      <th>2017-07-15</th>\n",
       "      <td>389.5</td>\n",
       "      <td>56.63</td>\n",
       "      <td>8392.0</td>\n",
       "      <td>52.125</td>\n",
       "      <td>8462.0</td>\n",
       "      <td>33.875</td>\n",
       "      <td>1177.0</td>\n",
       "      <td>15.375</td>\n",
       "      <td>170428.0</td>\n",
       "      <td>81.25</td>\n",
       "      <td>...</td>\n",
       "      <td>15.0</td>\n",
       "      <td>5.0</td>\n",
       "      <td>196.0</td>\n",
       "      <td>0.0</td>\n",
       "      <td>0.0</td>\n",
       "      <td>0.0</td>\n",
       "      <td>0.0</td>\n",
       "      <td>0.0</td>\n",
       "      <td>0.0</td>\n",
       "      <td>18.0</td>\n",
       "    </tr>\n",
       "  </tbody>\n",
       "</table>\n",
       "<p>5 rows × 128 columns</p>\n",
       "</div>"
      ],
      "text/plain": [
       "            grp_A_1  grp_B_1  grp_A_2  grp_B_2  grp_A_3  grp_B_3  grp_A_4  \\\n",
       "date                                                                        \n",
       "2017-11-07    389.5    56.63   8392.0   52.125   8462.0   33.875   1177.0   \n",
       "2017-12-07    389.5    56.63   8392.0   52.125   8462.0   33.875   1177.0   \n",
       "2017-07-13    389.5    56.63   8392.0   52.125   8462.0   33.875   1177.0   \n",
       "2017-07-14    389.5    56.63   8392.0   52.125   8462.0   33.875   1177.0   \n",
       "2017-07-15    389.5    56.63   8392.0   52.125   8462.0   33.875   1177.0   \n",
       "\n",
       "            grp_B_4   grp_A_5  grp_B_5  ...   Day  Dayofweek  Dayofyear  \\\n",
       "date                                    ...                               \n",
       "2017-11-07   15.375  170428.0    81.25  ...  11.0        1.0      192.0   \n",
       "2017-12-07   15.375  170428.0    81.25  ...  12.0        2.0      193.0   \n",
       "2017-07-13   15.375  170428.0    81.25  ...  13.0        3.0      194.0   \n",
       "2017-07-14   15.375  170428.0    81.25  ...  14.0        4.0      195.0   \n",
       "2017-07-15   15.375  170428.0    81.25  ...  15.0        5.0      196.0   \n",
       "\n",
       "            Is_month_end  Is_month_start  Is_quarter_end  Is_quarter_start  \\\n",
       "date                                                                         \n",
       "2017-11-07           0.0             0.0             0.0               0.0   \n",
       "2017-12-07           0.0             0.0             0.0               0.0   \n",
       "2017-07-13           0.0             0.0             0.0               0.0   \n",
       "2017-07-14           0.0             0.0             0.0               0.0   \n",
       "2017-07-15           0.0             0.0             0.0               0.0   \n",
       "\n",
       "            Is_year_end  Is_year_start  sales  \n",
       "date                                           \n",
       "2017-11-07          0.0            0.0   17.0  \n",
       "2017-12-07          0.0            0.0   23.0  \n",
       "2017-07-13          0.0            0.0   19.0  \n",
       "2017-07-14          0.0            0.0   15.0  \n",
       "2017-07-15          0.0            0.0   18.0  \n",
       "\n",
       "[5 rows x 128 columns]"
      ]
     },
     "metadata": {},
     "execution_count": 11
    }
   ],
   "metadata": {}
  },
  {
   "cell_type": "code",
   "execution_count": 12,
   "source": [
    "df.dropna(axis=0,inplace=True)"
   ],
   "outputs": [],
   "metadata": {}
  },
  {
   "cell_type": "code",
   "execution_count": 13,
   "source": [
    "df.isnull().sum()"
   ],
   "outputs": [
    {
     "output_type": "execute_result",
     "data": {
      "text/plain": [
       "grp_A_1             0\n",
       "grp_B_1             0\n",
       "grp_A_2             0\n",
       "grp_B_2             0\n",
       "grp_A_3             0\n",
       "                   ..\n",
       "Is_quarter_end      0\n",
       "Is_quarter_start    0\n",
       "Is_year_end         0\n",
       "Is_year_start       0\n",
       "sales               0\n",
       "Length: 128, dtype: int64"
      ]
     },
     "metadata": {},
     "execution_count": 13
    }
   ],
   "metadata": {}
  },
  {
   "cell_type": "markdown",
   "source": [
    "### In the dataset we have daily sales but the customer is interested in monthly sales so we are going to change that. "
   ],
   "metadata": {}
  },
  {
   "cell_type": "code",
   "execution_count": 14,
   "source": [
    "df = df.resample('M').sum()"
   ],
   "outputs": [],
   "metadata": {}
  },
  {
   "cell_type": "code",
   "execution_count": 15,
   "source": [
    "df.head()"
   ],
   "outputs": [
    {
     "output_type": "execute_result",
     "data": {
      "text/html": [
       "<div>\n",
       "<style scoped>\n",
       "    .dataframe tbody tr th:only-of-type {\n",
       "        vertical-align: middle;\n",
       "    }\n",
       "\n",
       "    .dataframe tbody tr th {\n",
       "        vertical-align: top;\n",
       "    }\n",
       "\n",
       "    .dataframe thead th {\n",
       "        text-align: right;\n",
       "    }\n",
       "</style>\n",
       "<table border=\"1\" class=\"dataframe\">\n",
       "  <thead>\n",
       "    <tr style=\"text-align: right;\">\n",
       "      <th></th>\n",
       "      <th>grp_A_1</th>\n",
       "      <th>grp_B_1</th>\n",
       "      <th>grp_A_2</th>\n",
       "      <th>grp_B_2</th>\n",
       "      <th>grp_A_3</th>\n",
       "      <th>grp_B_3</th>\n",
       "      <th>grp_A_4</th>\n",
       "      <th>grp_B_4</th>\n",
       "      <th>grp_A_5</th>\n",
       "      <th>grp_B_5</th>\n",
       "      <th>...</th>\n",
       "      <th>Day</th>\n",
       "      <th>Dayofweek</th>\n",
       "      <th>Dayofyear</th>\n",
       "      <th>Is_month_end</th>\n",
       "      <th>Is_month_start</th>\n",
       "      <th>Is_quarter_end</th>\n",
       "      <th>Is_quarter_start</th>\n",
       "      <th>Is_year_end</th>\n",
       "      <th>Is_year_start</th>\n",
       "      <th>sales</th>\n",
       "    </tr>\n",
       "    <tr>\n",
       "      <th>date</th>\n",
       "      <th></th>\n",
       "      <th></th>\n",
       "      <th></th>\n",
       "      <th></th>\n",
       "      <th></th>\n",
       "      <th></th>\n",
       "      <th></th>\n",
       "      <th></th>\n",
       "      <th></th>\n",
       "      <th></th>\n",
       "      <th></th>\n",
       "      <th></th>\n",
       "      <th></th>\n",
       "      <th></th>\n",
       "      <th></th>\n",
       "      <th></th>\n",
       "      <th></th>\n",
       "      <th></th>\n",
       "      <th></th>\n",
       "      <th></th>\n",
       "      <th></th>\n",
       "    </tr>\n",
       "  </thead>\n",
       "  <tbody>\n",
       "    <tr>\n",
       "      <th>2017-01-31</th>\n",
       "      <td>3787.07</td>\n",
       "      <td>245.03</td>\n",
       "      <td>92317.71428</td>\n",
       "      <td>219.375000</td>\n",
       "      <td>57287.428570</td>\n",
       "      <td>137.553571</td>\n",
       "      <td>26347.571430</td>\n",
       "      <td>77.553571</td>\n",
       "      <td>1.368979e+06</td>\n",
       "      <td>359.500000</td>\n",
       "      <td>...</td>\n",
       "      <td>5.0</td>\n",
       "      <td>17.0</td>\n",
       "      <td>1371.0</td>\n",
       "      <td>0.0</td>\n",
       "      <td>5.0</td>\n",
       "      <td>0.0</td>\n",
       "      <td>1.0</td>\n",
       "      <td>0.0</td>\n",
       "      <td>0.0</td>\n",
       "      <td>173.0</td>\n",
       "    </tr>\n",
       "    <tr>\n",
       "      <th>2017-02-28</th>\n",
       "      <td>3874.51</td>\n",
       "      <td>241.96</td>\n",
       "      <td>95448.28572</td>\n",
       "      <td>216.160714</td>\n",
       "      <td>57956.714286</td>\n",
       "      <td>135.482143</td>\n",
       "      <td>27707.571424</td>\n",
       "      <td>77.696429</td>\n",
       "      <td>1.399663e+06</td>\n",
       "      <td>354.678571</td>\n",
       "      <td>...</td>\n",
       "      <td>10.0</td>\n",
       "      <td>15.0</td>\n",
       "      <td>1376.0</td>\n",
       "      <td>0.0</td>\n",
       "      <td>0.0</td>\n",
       "      <td>0.0</td>\n",
       "      <td>0.0</td>\n",
       "      <td>0.0</td>\n",
       "      <td>0.0</td>\n",
       "      <td>172.0</td>\n",
       "    </tr>\n",
       "    <tr>\n",
       "      <th>2017-03-31</th>\n",
       "      <td>3961.93</td>\n",
       "      <td>238.89</td>\n",
       "      <td>98578.85714</td>\n",
       "      <td>212.946429</td>\n",
       "      <td>58626.000000</td>\n",
       "      <td>133.410714</td>\n",
       "      <td>29067.571429</td>\n",
       "      <td>77.839286</td>\n",
       "      <td>1.430348e+06</td>\n",
       "      <td>349.857143</td>\n",
       "      <td>...</td>\n",
       "      <td>15.0</td>\n",
       "      <td>20.0</td>\n",
       "      <td>1381.0</td>\n",
       "      <td>0.0</td>\n",
       "      <td>0.0</td>\n",
       "      <td>0.0</td>\n",
       "      <td>0.0</td>\n",
       "      <td>0.0</td>\n",
       "      <td>0.0</td>\n",
       "      <td>166.0</td>\n",
       "    </tr>\n",
       "    <tr>\n",
       "      <th>2017-04-30</th>\n",
       "      <td>4167.79</td>\n",
       "      <td>236.02</td>\n",
       "      <td>103396.85715</td>\n",
       "      <td>209.596429</td>\n",
       "      <td>60308.428570</td>\n",
       "      <td>130.175000</td>\n",
       "      <td>30959.857143</td>\n",
       "      <td>77.689286</td>\n",
       "      <td>1.482163e+06</td>\n",
       "      <td>345.357143</td>\n",
       "      <td>...</td>\n",
       "      <td>20.0</td>\n",
       "      <td>11.0</td>\n",
       "      <td>1386.0</td>\n",
       "      <td>0.0</td>\n",
       "      <td>0.0</td>\n",
       "      <td>0.0</td>\n",
       "      <td>0.0</td>\n",
       "      <td>0.0</td>\n",
       "      <td>0.0</td>\n",
       "      <td>148.0</td>\n",
       "    </tr>\n",
       "    <tr>\n",
       "      <th>2017-05-31</th>\n",
       "      <td>4373.64</td>\n",
       "      <td>233.17</td>\n",
       "      <td>108214.85714</td>\n",
       "      <td>206.246429</td>\n",
       "      <td>61990.857140</td>\n",
       "      <td>126.939286</td>\n",
       "      <td>32852.142857</td>\n",
       "      <td>77.539286</td>\n",
       "      <td>1.533978e+06</td>\n",
       "      <td>340.857143</td>\n",
       "      <td>...</td>\n",
       "      <td>25.0</td>\n",
       "      <td>16.0</td>\n",
       "      <td>1391.0</td>\n",
       "      <td>0.0</td>\n",
       "      <td>0.0</td>\n",
       "      <td>0.0</td>\n",
       "      <td>0.0</td>\n",
       "      <td>0.0</td>\n",
       "      <td>0.0</td>\n",
       "      <td>150.0</td>\n",
       "    </tr>\n",
       "  </tbody>\n",
       "</table>\n",
       "<p>5 rows × 128 columns</p>\n",
       "</div>"
      ],
      "text/plain": [
       "            grp_A_1  grp_B_1       grp_A_2     grp_B_2       grp_A_3  \\\n",
       "date                                                                   \n",
       "2017-01-31  3787.07   245.03   92317.71428  219.375000  57287.428570   \n",
       "2017-02-28  3874.51   241.96   95448.28572  216.160714  57956.714286   \n",
       "2017-03-31  3961.93   238.89   98578.85714  212.946429  58626.000000   \n",
       "2017-04-30  4167.79   236.02  103396.85715  209.596429  60308.428570   \n",
       "2017-05-31  4373.64   233.17  108214.85714  206.246429  61990.857140   \n",
       "\n",
       "               grp_B_3       grp_A_4    grp_B_4       grp_A_5     grp_B_5  \\\n",
       "date                                                                        \n",
       "2017-01-31  137.553571  26347.571430  77.553571  1.368979e+06  359.500000   \n",
       "2017-02-28  135.482143  27707.571424  77.696429  1.399663e+06  354.678571   \n",
       "2017-03-31  133.410714  29067.571429  77.839286  1.430348e+06  349.857143   \n",
       "2017-04-30  130.175000  30959.857143  77.689286  1.482163e+06  345.357143   \n",
       "2017-05-31  126.939286  32852.142857  77.539286  1.533978e+06  340.857143   \n",
       "\n",
       "            ...   Day  Dayofweek  Dayofyear  Is_month_end  Is_month_start  \\\n",
       "date        ...                                                             \n",
       "2017-01-31  ...   5.0       17.0     1371.0           0.0             5.0   \n",
       "2017-02-28  ...  10.0       15.0     1376.0           0.0             0.0   \n",
       "2017-03-31  ...  15.0       20.0     1381.0           0.0             0.0   \n",
       "2017-04-30  ...  20.0       11.0     1386.0           0.0             0.0   \n",
       "2017-05-31  ...  25.0       16.0     1391.0           0.0             0.0   \n",
       "\n",
       "            Is_quarter_end  Is_quarter_start  Is_year_end  Is_year_start  \\\n",
       "date                                                                       \n",
       "2017-01-31             0.0               1.0          0.0            0.0   \n",
       "2017-02-28             0.0               0.0          0.0            0.0   \n",
       "2017-03-31             0.0               0.0          0.0            0.0   \n",
       "2017-04-30             0.0               0.0          0.0            0.0   \n",
       "2017-05-31             0.0               0.0          0.0            0.0   \n",
       "\n",
       "            sales  \n",
       "date               \n",
       "2017-01-31  173.0  \n",
       "2017-02-28  172.0  \n",
       "2017-03-31  166.0  \n",
       "2017-04-30  148.0  \n",
       "2017-05-31  150.0  \n",
       "\n",
       "[5 rows x 128 columns]"
      ]
     },
     "metadata": {},
     "execution_count": 15
    }
   ],
   "metadata": {}
  },
  {
   "cell_type": "code",
   "execution_count": 16,
   "source": [
    "df.tail(6)"
   ],
   "outputs": [
    {
     "output_type": "execute_result",
     "data": {
      "text/html": [
       "<div>\n",
       "<style scoped>\n",
       "    .dataframe tbody tr th:only-of-type {\n",
       "        vertical-align: middle;\n",
       "    }\n",
       "\n",
       "    .dataframe tbody tr th {\n",
       "        vertical-align: top;\n",
       "    }\n",
       "\n",
       "    .dataframe thead th {\n",
       "        text-align: right;\n",
       "    }\n",
       "</style>\n",
       "<table border=\"1\" class=\"dataframe\">\n",
       "  <thead>\n",
       "    <tr style=\"text-align: right;\">\n",
       "      <th></th>\n",
       "      <th>grp_A_1</th>\n",
       "      <th>grp_B_1</th>\n",
       "      <th>grp_A_2</th>\n",
       "      <th>grp_B_2</th>\n",
       "      <th>grp_A_3</th>\n",
       "      <th>grp_B_3</th>\n",
       "      <th>grp_A_4</th>\n",
       "      <th>grp_B_4</th>\n",
       "      <th>grp_A_5</th>\n",
       "      <th>grp_B_5</th>\n",
       "      <th>...</th>\n",
       "      <th>Day</th>\n",
       "      <th>Dayofweek</th>\n",
       "      <th>Dayofyear</th>\n",
       "      <th>Is_month_end</th>\n",
       "      <th>Is_month_start</th>\n",
       "      <th>Is_quarter_end</th>\n",
       "      <th>Is_quarter_start</th>\n",
       "      <th>Is_year_end</th>\n",
       "      <th>Is_year_start</th>\n",
       "      <th>sales</th>\n",
       "    </tr>\n",
       "    <tr>\n",
       "      <th>date</th>\n",
       "      <th></th>\n",
       "      <th></th>\n",
       "      <th></th>\n",
       "      <th></th>\n",
       "      <th></th>\n",
       "      <th></th>\n",
       "      <th></th>\n",
       "      <th></th>\n",
       "      <th></th>\n",
       "      <th></th>\n",
       "      <th></th>\n",
       "      <th></th>\n",
       "      <th></th>\n",
       "      <th></th>\n",
       "      <th></th>\n",
       "      <th></th>\n",
       "      <th></th>\n",
       "      <th></th>\n",
       "      <th></th>\n",
       "      <th></th>\n",
       "      <th></th>\n",
       "    </tr>\n",
       "  </thead>\n",
       "  <tbody>\n",
       "    <tr>\n",
       "      <th>2019-07-31</th>\n",
       "      <td>11059.0</td>\n",
       "      <td>1712.73</td>\n",
       "      <td>474305.0</td>\n",
       "      <td>1582.257143</td>\n",
       "      <td>186941.571428</td>\n",
       "      <td>993.878571</td>\n",
       "      <td>101660.0</td>\n",
       "      <td>674.457143</td>\n",
       "      <td>6.316187e+06</td>\n",
       "      <td>1089.15</td>\n",
       "      <td>...</td>\n",
       "      <td>467.0</td>\n",
       "      <td>79.0</td>\n",
       "      <td>4538.0</td>\n",
       "      <td>1.0</td>\n",
       "      <td>0.0</td>\n",
       "      <td>0.0</td>\n",
       "      <td>0.0</td>\n",
       "      <td>0.0</td>\n",
       "      <td>0.0</td>\n",
       "      <td>4012.0</td>\n",
       "    </tr>\n",
       "    <tr>\n",
       "      <th>2019-08-31</th>\n",
       "      <td>5966.5</td>\n",
       "      <td>362.56</td>\n",
       "      <td>214705.0</td>\n",
       "      <td>301.925000</td>\n",
       "      <td>69809.000000</td>\n",
       "      <td>175.425000</td>\n",
       "      <td>54256.0</td>\n",
       "      <td>150.475000</td>\n",
       "      <td>1.899818e+06</td>\n",
       "      <td>224.85</td>\n",
       "      <td>...</td>\n",
       "      <td>56.0</td>\n",
       "      <td>16.0</td>\n",
       "      <td>688.0</td>\n",
       "      <td>0.0</td>\n",
       "      <td>0.0</td>\n",
       "      <td>0.0</td>\n",
       "      <td>0.0</td>\n",
       "      <td>0.0</td>\n",
       "      <td>0.0</td>\n",
       "      <td>700.0</td>\n",
       "    </tr>\n",
       "    <tr>\n",
       "      <th>2019-09-30</th>\n",
       "      <td>5966.5</td>\n",
       "      <td>362.56</td>\n",
       "      <td>214705.0</td>\n",
       "      <td>301.925000</td>\n",
       "      <td>69809.000000</td>\n",
       "      <td>175.425000</td>\n",
       "      <td>54256.0</td>\n",
       "      <td>150.475000</td>\n",
       "      <td>1.899818e+06</td>\n",
       "      <td>224.85</td>\n",
       "      <td>...</td>\n",
       "      <td>63.0</td>\n",
       "      <td>23.0</td>\n",
       "      <td>695.0</td>\n",
       "      <td>0.0</td>\n",
       "      <td>0.0</td>\n",
       "      <td>0.0</td>\n",
       "      <td>0.0</td>\n",
       "      <td>0.0</td>\n",
       "      <td>0.0</td>\n",
       "      <td>688.0</td>\n",
       "    </tr>\n",
       "    <tr>\n",
       "      <th>2019-10-31</th>\n",
       "      <td>5966.5</td>\n",
       "      <td>362.56</td>\n",
       "      <td>214705.0</td>\n",
       "      <td>301.925000</td>\n",
       "      <td>69809.000000</td>\n",
       "      <td>175.425000</td>\n",
       "      <td>54256.0</td>\n",
       "      <td>150.475000</td>\n",
       "      <td>1.899818e+06</td>\n",
       "      <td>224.85</td>\n",
       "      <td>...</td>\n",
       "      <td>70.0</td>\n",
       "      <td>23.0</td>\n",
       "      <td>702.0</td>\n",
       "      <td>0.0</td>\n",
       "      <td>0.0</td>\n",
       "      <td>0.0</td>\n",
       "      <td>0.0</td>\n",
       "      <td>0.0</td>\n",
       "      <td>0.0</td>\n",
       "      <td>642.0</td>\n",
       "    </tr>\n",
       "    <tr>\n",
       "      <th>2019-11-30</th>\n",
       "      <td>5966.5</td>\n",
       "      <td>362.56</td>\n",
       "      <td>214705.0</td>\n",
       "      <td>301.925000</td>\n",
       "      <td>69809.000000</td>\n",
       "      <td>175.425000</td>\n",
       "      <td>54256.0</td>\n",
       "      <td>150.475000</td>\n",
       "      <td>1.899818e+06</td>\n",
       "      <td>224.85</td>\n",
       "      <td>...</td>\n",
       "      <td>77.0</td>\n",
       "      <td>16.0</td>\n",
       "      <td>709.0</td>\n",
       "      <td>0.0</td>\n",
       "      <td>0.0</td>\n",
       "      <td>0.0</td>\n",
       "      <td>0.0</td>\n",
       "      <td>0.0</td>\n",
       "      <td>0.0</td>\n",
       "      <td>614.0</td>\n",
       "    </tr>\n",
       "    <tr>\n",
       "      <th>2019-12-31</th>\n",
       "      <td>5966.5</td>\n",
       "      <td>362.56</td>\n",
       "      <td>214705.0</td>\n",
       "      <td>301.925000</td>\n",
       "      <td>69809.000000</td>\n",
       "      <td>175.425000</td>\n",
       "      <td>54256.0</td>\n",
       "      <td>150.475000</td>\n",
       "      <td>1.899818e+06</td>\n",
       "      <td>224.85</td>\n",
       "      <td>...</td>\n",
       "      <td>84.0</td>\n",
       "      <td>23.0</td>\n",
       "      <td>716.0</td>\n",
       "      <td>0.0</td>\n",
       "      <td>0.0</td>\n",
       "      <td>0.0</td>\n",
       "      <td>0.0</td>\n",
       "      <td>0.0</td>\n",
       "      <td>0.0</td>\n",
       "      <td>587.0</td>\n",
       "    </tr>\n",
       "  </tbody>\n",
       "</table>\n",
       "<p>6 rows × 128 columns</p>\n",
       "</div>"
      ],
      "text/plain": [
       "            grp_A_1  grp_B_1   grp_A_2      grp_B_2        grp_A_3  \\\n",
       "date                                                                 \n",
       "2019-07-31  11059.0  1712.73  474305.0  1582.257143  186941.571428   \n",
       "2019-08-31   5966.5   362.56  214705.0   301.925000   69809.000000   \n",
       "2019-09-30   5966.5   362.56  214705.0   301.925000   69809.000000   \n",
       "2019-10-31   5966.5   362.56  214705.0   301.925000   69809.000000   \n",
       "2019-11-30   5966.5   362.56  214705.0   301.925000   69809.000000   \n",
       "2019-12-31   5966.5   362.56  214705.0   301.925000   69809.000000   \n",
       "\n",
       "               grp_B_3   grp_A_4     grp_B_4       grp_A_5  grp_B_5  ...  \\\n",
       "date                                                                 ...   \n",
       "2019-07-31  993.878571  101660.0  674.457143  6.316187e+06  1089.15  ...   \n",
       "2019-08-31  175.425000   54256.0  150.475000  1.899818e+06   224.85  ...   \n",
       "2019-09-30  175.425000   54256.0  150.475000  1.899818e+06   224.85  ...   \n",
       "2019-10-31  175.425000   54256.0  150.475000  1.899818e+06   224.85  ...   \n",
       "2019-11-30  175.425000   54256.0  150.475000  1.899818e+06   224.85  ...   \n",
       "2019-12-31  175.425000   54256.0  150.475000  1.899818e+06   224.85  ...   \n",
       "\n",
       "              Day  Dayofweek  Dayofyear  Is_month_end  Is_month_start  \\\n",
       "date                                                                    \n",
       "2019-07-31  467.0       79.0     4538.0           1.0             0.0   \n",
       "2019-08-31   56.0       16.0      688.0           0.0             0.0   \n",
       "2019-09-30   63.0       23.0      695.0           0.0             0.0   \n",
       "2019-10-31   70.0       23.0      702.0           0.0             0.0   \n",
       "2019-11-30   77.0       16.0      709.0           0.0             0.0   \n",
       "2019-12-31   84.0       23.0      716.0           0.0             0.0   \n",
       "\n",
       "            Is_quarter_end  Is_quarter_start  Is_year_end  Is_year_start  \\\n",
       "date                                                                       \n",
       "2019-07-31             0.0               0.0          0.0            0.0   \n",
       "2019-08-31             0.0               0.0          0.0            0.0   \n",
       "2019-09-30             0.0               0.0          0.0            0.0   \n",
       "2019-10-31             0.0               0.0          0.0            0.0   \n",
       "2019-11-30             0.0               0.0          0.0            0.0   \n",
       "2019-12-31             0.0               0.0          0.0            0.0   \n",
       "\n",
       "             sales  \n",
       "date                \n",
       "2019-07-31  4012.0  \n",
       "2019-08-31   700.0  \n",
       "2019-09-30   688.0  \n",
       "2019-10-31   642.0  \n",
       "2019-11-30   614.0  \n",
       "2019-12-31   587.0  \n",
       "\n",
       "[6 rows x 128 columns]"
      ]
     },
     "metadata": {},
     "execution_count": 16
    }
   ],
   "metadata": {}
  },
  {
   "cell_type": "code",
   "execution_count": 17,
   "source": [
    "df.drop(df.tail(5).index,inplace=True) # drop last n rows"
   ],
   "outputs": [],
   "metadata": {}
  },
  {
   "cell_type": "code",
   "execution_count": 18,
   "source": [
    "df.tail()"
   ],
   "outputs": [
    {
     "output_type": "execute_result",
     "data": {
      "text/html": [
       "<div>\n",
       "<style scoped>\n",
       "    .dataframe tbody tr th:only-of-type {\n",
       "        vertical-align: middle;\n",
       "    }\n",
       "\n",
       "    .dataframe tbody tr th {\n",
       "        vertical-align: top;\n",
       "    }\n",
       "\n",
       "    .dataframe thead th {\n",
       "        text-align: right;\n",
       "    }\n",
       "</style>\n",
       "<table border=\"1\" class=\"dataframe\">\n",
       "  <thead>\n",
       "    <tr style=\"text-align: right;\">\n",
       "      <th></th>\n",
       "      <th>grp_A_1</th>\n",
       "      <th>grp_B_1</th>\n",
       "      <th>grp_A_2</th>\n",
       "      <th>grp_B_2</th>\n",
       "      <th>grp_A_3</th>\n",
       "      <th>grp_B_3</th>\n",
       "      <th>grp_A_4</th>\n",
       "      <th>grp_B_4</th>\n",
       "      <th>grp_A_5</th>\n",
       "      <th>grp_B_5</th>\n",
       "      <th>...</th>\n",
       "      <th>Day</th>\n",
       "      <th>Dayofweek</th>\n",
       "      <th>Dayofyear</th>\n",
       "      <th>Is_month_end</th>\n",
       "      <th>Is_month_start</th>\n",
       "      <th>Is_quarter_end</th>\n",
       "      <th>Is_quarter_start</th>\n",
       "      <th>Is_year_end</th>\n",
       "      <th>Is_year_start</th>\n",
       "      <th>sales</th>\n",
       "    </tr>\n",
       "    <tr>\n",
       "      <th>date</th>\n",
       "      <th></th>\n",
       "      <th></th>\n",
       "      <th></th>\n",
       "      <th></th>\n",
       "      <th></th>\n",
       "      <th></th>\n",
       "      <th></th>\n",
       "      <th></th>\n",
       "      <th></th>\n",
       "      <th></th>\n",
       "      <th></th>\n",
       "      <th></th>\n",
       "      <th></th>\n",
       "      <th></th>\n",
       "      <th></th>\n",
       "      <th></th>\n",
       "      <th></th>\n",
       "      <th></th>\n",
       "      <th></th>\n",
       "      <th></th>\n",
       "      <th></th>\n",
       "    </tr>\n",
       "  </thead>\n",
       "  <tbody>\n",
       "    <tr>\n",
       "      <th>2019-03-31</th>\n",
       "      <td>33664.49</td>\n",
       "      <td>840.49</td>\n",
       "      <td>1.229891e+06</td>\n",
       "      <td>652.603571</td>\n",
       "      <td>337402.857146</td>\n",
       "      <td>448.403571</td>\n",
       "      <td>287696.428576</td>\n",
       "      <td>339.989286</td>\n",
       "      <td>9.053643e+06</td>\n",
       "      <td>589.450000</td>\n",
       "      <td>...</td>\n",
       "      <td>439.0</td>\n",
       "      <td>85.0</td>\n",
       "      <td>2192.0</td>\n",
       "      <td>1.0</td>\n",
       "      <td>0.0</td>\n",
       "      <td>1.0</td>\n",
       "      <td>0.0</td>\n",
       "      <td>0.0</td>\n",
       "      <td>0.0</td>\n",
       "      <td>1725.0</td>\n",
       "    </tr>\n",
       "    <tr>\n",
       "      <th>2019-04-30</th>\n",
       "      <td>13417.79</td>\n",
       "      <td>1541.74</td>\n",
       "      <td>6.232423e+05</td>\n",
       "      <td>1314.839286</td>\n",
       "      <td>244780.857134</td>\n",
       "      <td>689.803571</td>\n",
       "      <td>128198.428574</td>\n",
       "      <td>694.589286</td>\n",
       "      <td>6.346386e+06</td>\n",
       "      <td>1196.071429</td>\n",
       "      <td>...</td>\n",
       "      <td>415.0</td>\n",
       "      <td>70.0</td>\n",
       "      <td>2667.0</td>\n",
       "      <td>1.0</td>\n",
       "      <td>0.0</td>\n",
       "      <td>0.0</td>\n",
       "      <td>0.0</td>\n",
       "      <td>0.0</td>\n",
       "      <td>0.0</td>\n",
       "      <td>2133.0</td>\n",
       "    </tr>\n",
       "    <tr>\n",
       "      <th>2019-05-31</th>\n",
       "      <td>10998.22</td>\n",
       "      <td>1777.05</td>\n",
       "      <td>4.404066e+05</td>\n",
       "      <td>1483.582143</td>\n",
       "      <td>230568.142857</td>\n",
       "      <td>783.082143</td>\n",
       "      <td>127699.142858</td>\n",
       "      <td>795.682143</td>\n",
       "      <td>6.216899e+06</td>\n",
       "      <td>1081.735714</td>\n",
       "      <td>...</td>\n",
       "      <td>453.0</td>\n",
       "      <td>75.0</td>\n",
       "      <td>3365.0</td>\n",
       "      <td>1.0</td>\n",
       "      <td>0.0</td>\n",
       "      <td>0.0</td>\n",
       "      <td>0.0</td>\n",
       "      <td>0.0</td>\n",
       "      <td>0.0</td>\n",
       "      <td>3350.0</td>\n",
       "    </tr>\n",
       "    <tr>\n",
       "      <th>2019-06-30</th>\n",
       "      <td>11563.93</td>\n",
       "      <td>1715.21</td>\n",
       "      <td>4.205946e+05</td>\n",
       "      <td>1381.389286</td>\n",
       "      <td>208053.428570</td>\n",
       "      <td>718.253571</td>\n",
       "      <td>118468.714286</td>\n",
       "      <td>725.625000</td>\n",
       "      <td>6.315195e+06</td>\n",
       "      <td>907.400000</td>\n",
       "      <td>...</td>\n",
       "      <td>429.0</td>\n",
       "      <td>83.0</td>\n",
       "      <td>3779.0</td>\n",
       "      <td>1.0</td>\n",
       "      <td>0.0</td>\n",
       "      <td>1.0</td>\n",
       "      <td>0.0</td>\n",
       "      <td>0.0</td>\n",
       "      <td>0.0</td>\n",
       "      <td>3877.0</td>\n",
       "    </tr>\n",
       "    <tr>\n",
       "      <th>2019-07-31</th>\n",
       "      <td>11059.00</td>\n",
       "      <td>1712.73</td>\n",
       "      <td>4.743050e+05</td>\n",
       "      <td>1582.257143</td>\n",
       "      <td>186941.571428</td>\n",
       "      <td>993.878571</td>\n",
       "      <td>101660.000000</td>\n",
       "      <td>674.457143</td>\n",
       "      <td>6.316187e+06</td>\n",
       "      <td>1089.150000</td>\n",
       "      <td>...</td>\n",
       "      <td>467.0</td>\n",
       "      <td>79.0</td>\n",
       "      <td>4538.0</td>\n",
       "      <td>1.0</td>\n",
       "      <td>0.0</td>\n",
       "      <td>0.0</td>\n",
       "      <td>0.0</td>\n",
       "      <td>0.0</td>\n",
       "      <td>0.0</td>\n",
       "      <td>4012.0</td>\n",
       "    </tr>\n",
       "  </tbody>\n",
       "</table>\n",
       "<p>5 rows × 128 columns</p>\n",
       "</div>"
      ],
      "text/plain": [
       "             grp_A_1  grp_B_1       grp_A_2      grp_B_2        grp_A_3  \\\n",
       "date                                                                      \n",
       "2019-03-31  33664.49   840.49  1.229891e+06   652.603571  337402.857146   \n",
       "2019-04-30  13417.79  1541.74  6.232423e+05  1314.839286  244780.857134   \n",
       "2019-05-31  10998.22  1777.05  4.404066e+05  1483.582143  230568.142857   \n",
       "2019-06-30  11563.93  1715.21  4.205946e+05  1381.389286  208053.428570   \n",
       "2019-07-31  11059.00  1712.73  4.743050e+05  1582.257143  186941.571428   \n",
       "\n",
       "               grp_B_3        grp_A_4     grp_B_4       grp_A_5      grp_B_5  \\\n",
       "date                                                                           \n",
       "2019-03-31  448.403571  287696.428576  339.989286  9.053643e+06   589.450000   \n",
       "2019-04-30  689.803571  128198.428574  694.589286  6.346386e+06  1196.071429   \n",
       "2019-05-31  783.082143  127699.142858  795.682143  6.216899e+06  1081.735714   \n",
       "2019-06-30  718.253571  118468.714286  725.625000  6.315195e+06   907.400000   \n",
       "2019-07-31  993.878571  101660.000000  674.457143  6.316187e+06  1089.150000   \n",
       "\n",
       "            ...    Day  Dayofweek  Dayofyear  Is_month_end  Is_month_start  \\\n",
       "date        ...                                                              \n",
       "2019-03-31  ...  439.0       85.0     2192.0           1.0             0.0   \n",
       "2019-04-30  ...  415.0       70.0     2667.0           1.0             0.0   \n",
       "2019-05-31  ...  453.0       75.0     3365.0           1.0             0.0   \n",
       "2019-06-30  ...  429.0       83.0     3779.0           1.0             0.0   \n",
       "2019-07-31  ...  467.0       79.0     4538.0           1.0             0.0   \n",
       "\n",
       "            Is_quarter_end  Is_quarter_start  Is_year_end  Is_year_start  \\\n",
       "date                                                                       \n",
       "2019-03-31             1.0               0.0          0.0            0.0   \n",
       "2019-04-30             0.0               0.0          0.0            0.0   \n",
       "2019-05-31             0.0               0.0          0.0            0.0   \n",
       "2019-06-30             1.0               0.0          0.0            0.0   \n",
       "2019-07-31             0.0               0.0          0.0            0.0   \n",
       "\n",
       "             sales  \n",
       "date                \n",
       "2019-03-31  1725.0  \n",
       "2019-04-30  2133.0  \n",
       "2019-05-31  3350.0  \n",
       "2019-06-30  3877.0  \n",
       "2019-07-31  4012.0  \n",
       "\n",
       "[5 rows x 128 columns]"
      ]
     },
     "metadata": {},
     "execution_count": 18
    }
   ],
   "metadata": {}
  },
  {
   "cell_type": "code",
   "execution_count": 19,
   "source": [
    "fig = px.line(df,x = df.index ,y='sales')\r\n",
    "fig.update_layout(title='Units sold by month',  \r\n",
    "                  xaxis_title=\"Months\",\r\n",
    "                  yaxis_title=\" Units sold\"\r\n",
    "                  )\r\n",
    "fig.show()"
   ],
   "outputs": [
    {
     "output_type": "display_data",
     "data": {
      "application/vnd.plotly.v1+json": {
       "config": {
        "plotlyServerURL": "https://plot.ly"
       },
       "data": [
        {
         "hovertemplate": "date=%{x}<br>sales=%{y}<extra></extra>",
         "legendgroup": "",
         "line": {
          "color": "#636efa",
          "dash": "solid"
         },
         "marker": {
          "symbol": "circle"
         },
         "mode": "lines",
         "name": "",
         "orientation": "v",
         "showlegend": false,
         "type": "scatter",
         "x": [
          "2017-01-31T00:00:00",
          "2017-02-28T00:00:00",
          "2017-03-31T00:00:00",
          "2017-04-30T00:00:00",
          "2017-05-31T00:00:00",
          "2017-06-30T00:00:00",
          "2017-07-31T00:00:00",
          "2017-08-31T00:00:00",
          "2017-09-30T00:00:00",
          "2017-10-31T00:00:00",
          "2017-11-30T00:00:00",
          "2017-12-31T00:00:00",
          "2018-01-31T00:00:00",
          "2018-02-28T00:00:00",
          "2018-03-31T00:00:00",
          "2018-04-30T00:00:00",
          "2018-05-31T00:00:00",
          "2018-06-30T00:00:00",
          "2018-07-31T00:00:00",
          "2018-08-31T00:00:00",
          "2018-09-30T00:00:00",
          "2018-10-31T00:00:00",
          "2018-11-30T00:00:00",
          "2018-12-31T00:00:00",
          "2019-01-31T00:00:00",
          "2019-02-28T00:00:00",
          "2019-03-31T00:00:00",
          "2019-04-30T00:00:00",
          "2019-05-31T00:00:00",
          "2019-06-30T00:00:00",
          "2019-07-31T00:00:00"
         ],
         "xaxis": "x",
         "y": [
          173,
          172,
          166,
          148,
          150,
          137,
          981,
          437,
          219,
          405,
          1297,
          646,
          1734,
          1900,
          1572,
          1983,
          4525,
          3207,
          3228,
          4747,
          3656,
          2306,
          2169,
          1685,
          1323,
          1165,
          1725,
          2133,
          3350,
          3877,
          4012
         ],
         "yaxis": "y"
        }
       ],
       "layout": {
        "legend": {
         "tracegroupgap": 0
        },
        "margin": {
         "t": 60
        },
        "template": {
         "data": {
          "bar": [
           {
            "error_x": {
             "color": "#2a3f5f"
            },
            "error_y": {
             "color": "#2a3f5f"
            },
            "marker": {
             "line": {
              "color": "#E5ECF6",
              "width": 0.5
             },
             "pattern": {
              "fillmode": "overlay",
              "size": 10,
              "solidity": 0.2
             }
            },
            "type": "bar"
           }
          ],
          "barpolar": [
           {
            "marker": {
             "line": {
              "color": "#E5ECF6",
              "width": 0.5
             },
             "pattern": {
              "fillmode": "overlay",
              "size": 10,
              "solidity": 0.2
             }
            },
            "type": "barpolar"
           }
          ],
          "carpet": [
           {
            "aaxis": {
             "endlinecolor": "#2a3f5f",
             "gridcolor": "white",
             "linecolor": "white",
             "minorgridcolor": "white",
             "startlinecolor": "#2a3f5f"
            },
            "baxis": {
             "endlinecolor": "#2a3f5f",
             "gridcolor": "white",
             "linecolor": "white",
             "minorgridcolor": "white",
             "startlinecolor": "#2a3f5f"
            },
            "type": "carpet"
           }
          ],
          "choropleth": [
           {
            "colorbar": {
             "outlinewidth": 0,
             "ticks": ""
            },
            "type": "choropleth"
           }
          ],
          "contour": [
           {
            "colorbar": {
             "outlinewidth": 0,
             "ticks": ""
            },
            "colorscale": [
             [
              0,
              "#0d0887"
             ],
             [
              0.1111111111111111,
              "#46039f"
             ],
             [
              0.2222222222222222,
              "#7201a8"
             ],
             [
              0.3333333333333333,
              "#9c179e"
             ],
             [
              0.4444444444444444,
              "#bd3786"
             ],
             [
              0.5555555555555556,
              "#d8576b"
             ],
             [
              0.6666666666666666,
              "#ed7953"
             ],
             [
              0.7777777777777778,
              "#fb9f3a"
             ],
             [
              0.8888888888888888,
              "#fdca26"
             ],
             [
              1,
              "#f0f921"
             ]
            ],
            "type": "contour"
           }
          ],
          "contourcarpet": [
           {
            "colorbar": {
             "outlinewidth": 0,
             "ticks": ""
            },
            "type": "contourcarpet"
           }
          ],
          "heatmap": [
           {
            "colorbar": {
             "outlinewidth": 0,
             "ticks": ""
            },
            "colorscale": [
             [
              0,
              "#0d0887"
             ],
             [
              0.1111111111111111,
              "#46039f"
             ],
             [
              0.2222222222222222,
              "#7201a8"
             ],
             [
              0.3333333333333333,
              "#9c179e"
             ],
             [
              0.4444444444444444,
              "#bd3786"
             ],
             [
              0.5555555555555556,
              "#d8576b"
             ],
             [
              0.6666666666666666,
              "#ed7953"
             ],
             [
              0.7777777777777778,
              "#fb9f3a"
             ],
             [
              0.8888888888888888,
              "#fdca26"
             ],
             [
              1,
              "#f0f921"
             ]
            ],
            "type": "heatmap"
           }
          ],
          "heatmapgl": [
           {
            "colorbar": {
             "outlinewidth": 0,
             "ticks": ""
            },
            "colorscale": [
             [
              0,
              "#0d0887"
             ],
             [
              0.1111111111111111,
              "#46039f"
             ],
             [
              0.2222222222222222,
              "#7201a8"
             ],
             [
              0.3333333333333333,
              "#9c179e"
             ],
             [
              0.4444444444444444,
              "#bd3786"
             ],
             [
              0.5555555555555556,
              "#d8576b"
             ],
             [
              0.6666666666666666,
              "#ed7953"
             ],
             [
              0.7777777777777778,
              "#fb9f3a"
             ],
             [
              0.8888888888888888,
              "#fdca26"
             ],
             [
              1,
              "#f0f921"
             ]
            ],
            "type": "heatmapgl"
           }
          ],
          "histogram": [
           {
            "marker": {
             "pattern": {
              "fillmode": "overlay",
              "size": 10,
              "solidity": 0.2
             }
            },
            "type": "histogram"
           }
          ],
          "histogram2d": [
           {
            "colorbar": {
             "outlinewidth": 0,
             "ticks": ""
            },
            "colorscale": [
             [
              0,
              "#0d0887"
             ],
             [
              0.1111111111111111,
              "#46039f"
             ],
             [
              0.2222222222222222,
              "#7201a8"
             ],
             [
              0.3333333333333333,
              "#9c179e"
             ],
             [
              0.4444444444444444,
              "#bd3786"
             ],
             [
              0.5555555555555556,
              "#d8576b"
             ],
             [
              0.6666666666666666,
              "#ed7953"
             ],
             [
              0.7777777777777778,
              "#fb9f3a"
             ],
             [
              0.8888888888888888,
              "#fdca26"
             ],
             [
              1,
              "#f0f921"
             ]
            ],
            "type": "histogram2d"
           }
          ],
          "histogram2dcontour": [
           {
            "colorbar": {
             "outlinewidth": 0,
             "ticks": ""
            },
            "colorscale": [
             [
              0,
              "#0d0887"
             ],
             [
              0.1111111111111111,
              "#46039f"
             ],
             [
              0.2222222222222222,
              "#7201a8"
             ],
             [
              0.3333333333333333,
              "#9c179e"
             ],
             [
              0.4444444444444444,
              "#bd3786"
             ],
             [
              0.5555555555555556,
              "#d8576b"
             ],
             [
              0.6666666666666666,
              "#ed7953"
             ],
             [
              0.7777777777777778,
              "#fb9f3a"
             ],
             [
              0.8888888888888888,
              "#fdca26"
             ],
             [
              1,
              "#f0f921"
             ]
            ],
            "type": "histogram2dcontour"
           }
          ],
          "mesh3d": [
           {
            "colorbar": {
             "outlinewidth": 0,
             "ticks": ""
            },
            "type": "mesh3d"
           }
          ],
          "parcoords": [
           {
            "line": {
             "colorbar": {
              "outlinewidth": 0,
              "ticks": ""
             }
            },
            "type": "parcoords"
           }
          ],
          "pie": [
           {
            "automargin": true,
            "type": "pie"
           }
          ],
          "scatter": [
           {
            "marker": {
             "colorbar": {
              "outlinewidth": 0,
              "ticks": ""
             }
            },
            "type": "scatter"
           }
          ],
          "scatter3d": [
           {
            "line": {
             "colorbar": {
              "outlinewidth": 0,
              "ticks": ""
             }
            },
            "marker": {
             "colorbar": {
              "outlinewidth": 0,
              "ticks": ""
             }
            },
            "type": "scatter3d"
           }
          ],
          "scattercarpet": [
           {
            "marker": {
             "colorbar": {
              "outlinewidth": 0,
              "ticks": ""
             }
            },
            "type": "scattercarpet"
           }
          ],
          "scattergeo": [
           {
            "marker": {
             "colorbar": {
              "outlinewidth": 0,
              "ticks": ""
             }
            },
            "type": "scattergeo"
           }
          ],
          "scattergl": [
           {
            "marker": {
             "colorbar": {
              "outlinewidth": 0,
              "ticks": ""
             }
            },
            "type": "scattergl"
           }
          ],
          "scattermapbox": [
           {
            "marker": {
             "colorbar": {
              "outlinewidth": 0,
              "ticks": ""
             }
            },
            "type": "scattermapbox"
           }
          ],
          "scatterpolar": [
           {
            "marker": {
             "colorbar": {
              "outlinewidth": 0,
              "ticks": ""
             }
            },
            "type": "scatterpolar"
           }
          ],
          "scatterpolargl": [
           {
            "marker": {
             "colorbar": {
              "outlinewidth": 0,
              "ticks": ""
             }
            },
            "type": "scatterpolargl"
           }
          ],
          "scatterternary": [
           {
            "marker": {
             "colorbar": {
              "outlinewidth": 0,
              "ticks": ""
             }
            },
            "type": "scatterternary"
           }
          ],
          "surface": [
           {
            "colorbar": {
             "outlinewidth": 0,
             "ticks": ""
            },
            "colorscale": [
             [
              0,
              "#0d0887"
             ],
             [
              0.1111111111111111,
              "#46039f"
             ],
             [
              0.2222222222222222,
              "#7201a8"
             ],
             [
              0.3333333333333333,
              "#9c179e"
             ],
             [
              0.4444444444444444,
              "#bd3786"
             ],
             [
              0.5555555555555556,
              "#d8576b"
             ],
             [
              0.6666666666666666,
              "#ed7953"
             ],
             [
              0.7777777777777778,
              "#fb9f3a"
             ],
             [
              0.8888888888888888,
              "#fdca26"
             ],
             [
              1,
              "#f0f921"
             ]
            ],
            "type": "surface"
           }
          ],
          "table": [
           {
            "cells": {
             "fill": {
              "color": "#EBF0F8"
             },
             "line": {
              "color": "white"
             }
            },
            "header": {
             "fill": {
              "color": "#C8D4E3"
             },
             "line": {
              "color": "white"
             }
            },
            "type": "table"
           }
          ]
         },
         "layout": {
          "annotationdefaults": {
           "arrowcolor": "#2a3f5f",
           "arrowhead": 0,
           "arrowwidth": 1
          },
          "autotypenumbers": "strict",
          "coloraxis": {
           "colorbar": {
            "outlinewidth": 0,
            "ticks": ""
           }
          },
          "colorscale": {
           "diverging": [
            [
             0,
             "#8e0152"
            ],
            [
             0.1,
             "#c51b7d"
            ],
            [
             0.2,
             "#de77ae"
            ],
            [
             0.3,
             "#f1b6da"
            ],
            [
             0.4,
             "#fde0ef"
            ],
            [
             0.5,
             "#f7f7f7"
            ],
            [
             0.6,
             "#e6f5d0"
            ],
            [
             0.7,
             "#b8e186"
            ],
            [
             0.8,
             "#7fbc41"
            ],
            [
             0.9,
             "#4d9221"
            ],
            [
             1,
             "#276419"
            ]
           ],
           "sequential": [
            [
             0,
             "#0d0887"
            ],
            [
             0.1111111111111111,
             "#46039f"
            ],
            [
             0.2222222222222222,
             "#7201a8"
            ],
            [
             0.3333333333333333,
             "#9c179e"
            ],
            [
             0.4444444444444444,
             "#bd3786"
            ],
            [
             0.5555555555555556,
             "#d8576b"
            ],
            [
             0.6666666666666666,
             "#ed7953"
            ],
            [
             0.7777777777777778,
             "#fb9f3a"
            ],
            [
             0.8888888888888888,
             "#fdca26"
            ],
            [
             1,
             "#f0f921"
            ]
           ],
           "sequentialminus": [
            [
             0,
             "#0d0887"
            ],
            [
             0.1111111111111111,
             "#46039f"
            ],
            [
             0.2222222222222222,
             "#7201a8"
            ],
            [
             0.3333333333333333,
             "#9c179e"
            ],
            [
             0.4444444444444444,
             "#bd3786"
            ],
            [
             0.5555555555555556,
             "#d8576b"
            ],
            [
             0.6666666666666666,
             "#ed7953"
            ],
            [
             0.7777777777777778,
             "#fb9f3a"
            ],
            [
             0.8888888888888888,
             "#fdca26"
            ],
            [
             1,
             "#f0f921"
            ]
           ]
          },
          "colorway": [
           "#636efa",
           "#EF553B",
           "#00cc96",
           "#ab63fa",
           "#FFA15A",
           "#19d3f3",
           "#FF6692",
           "#B6E880",
           "#FF97FF",
           "#FECB52"
          ],
          "font": {
           "color": "#2a3f5f"
          },
          "geo": {
           "bgcolor": "white",
           "lakecolor": "white",
           "landcolor": "#E5ECF6",
           "showlakes": true,
           "showland": true,
           "subunitcolor": "white"
          },
          "hoverlabel": {
           "align": "left"
          },
          "hovermode": "closest",
          "mapbox": {
           "style": "light"
          },
          "paper_bgcolor": "white",
          "plot_bgcolor": "#E5ECF6",
          "polar": {
           "angularaxis": {
            "gridcolor": "white",
            "linecolor": "white",
            "ticks": ""
           },
           "bgcolor": "#E5ECF6",
           "radialaxis": {
            "gridcolor": "white",
            "linecolor": "white",
            "ticks": ""
           }
          },
          "scene": {
           "xaxis": {
            "backgroundcolor": "#E5ECF6",
            "gridcolor": "white",
            "gridwidth": 2,
            "linecolor": "white",
            "showbackground": true,
            "ticks": "",
            "zerolinecolor": "white"
           },
           "yaxis": {
            "backgroundcolor": "#E5ECF6",
            "gridcolor": "white",
            "gridwidth": 2,
            "linecolor": "white",
            "showbackground": true,
            "ticks": "",
            "zerolinecolor": "white"
           },
           "zaxis": {
            "backgroundcolor": "#E5ECF6",
            "gridcolor": "white",
            "gridwidth": 2,
            "linecolor": "white",
            "showbackground": true,
            "ticks": "",
            "zerolinecolor": "white"
           }
          },
          "shapedefaults": {
           "line": {
            "color": "#2a3f5f"
           }
          },
          "ternary": {
           "aaxis": {
            "gridcolor": "white",
            "linecolor": "white",
            "ticks": ""
           },
           "baxis": {
            "gridcolor": "white",
            "linecolor": "white",
            "ticks": ""
           },
           "bgcolor": "#E5ECF6",
           "caxis": {
            "gridcolor": "white",
            "linecolor": "white",
            "ticks": ""
           }
          },
          "title": {
           "x": 0.05
          },
          "xaxis": {
           "automargin": true,
           "gridcolor": "white",
           "linecolor": "white",
           "ticks": "",
           "title": {
            "standoff": 15
           },
           "zerolinecolor": "white",
           "zerolinewidth": 2
          },
          "yaxis": {
           "automargin": true,
           "gridcolor": "white",
           "linecolor": "white",
           "ticks": "",
           "title": {
            "standoff": 15
           },
           "zerolinecolor": "white",
           "zerolinewidth": 2
          }
         }
        },
        "title": {
         "text": "Units sold by month"
        },
        "xaxis": {
         "anchor": "y",
         "domain": [
          0,
          1
         ],
         "title": {
          "text": "Months"
         }
        },
        "yaxis": {
         "anchor": "x",
         "domain": [
          0,
          1
         ],
         "title": {
          "text": " Units sold"
         }
        }
       }
      }
     },
     "metadata": {}
    }
   ],
   "metadata": {}
  },
  {
   "cell_type": "code",
   "execution_count": 20,
   "source": [
    "fig = px.bar(df, x=df.index, y=\"sales\")\r\n",
    "fig.update_layout(title='Units sold by month',  \r\n",
    "                  xaxis_title=\"Months\",\r\n",
    "                  yaxis_title=\" Units sold\"\r\n",
    "                  )\r\n",
    "fig.show()"
   ],
   "outputs": [
    {
     "output_type": "display_data",
     "data": {
      "application/vnd.plotly.v1+json": {
       "config": {
        "plotlyServerURL": "https://plot.ly"
       },
       "data": [
        {
         "alignmentgroup": "True",
         "hovertemplate": "date=%{x}<br>sales=%{y}<extra></extra>",
         "legendgroup": "",
         "marker": {
          "color": "#636efa",
          "pattern": {
           "shape": ""
          }
         },
         "name": "",
         "offsetgroup": "",
         "orientation": "v",
         "showlegend": false,
         "textposition": "auto",
         "type": "bar",
         "x": [
          "2017-01-31T00:00:00",
          "2017-02-28T00:00:00",
          "2017-03-31T00:00:00",
          "2017-04-30T00:00:00",
          "2017-05-31T00:00:00",
          "2017-06-30T00:00:00",
          "2017-07-31T00:00:00",
          "2017-08-31T00:00:00",
          "2017-09-30T00:00:00",
          "2017-10-31T00:00:00",
          "2017-11-30T00:00:00",
          "2017-12-31T00:00:00",
          "2018-01-31T00:00:00",
          "2018-02-28T00:00:00",
          "2018-03-31T00:00:00",
          "2018-04-30T00:00:00",
          "2018-05-31T00:00:00",
          "2018-06-30T00:00:00",
          "2018-07-31T00:00:00",
          "2018-08-31T00:00:00",
          "2018-09-30T00:00:00",
          "2018-10-31T00:00:00",
          "2018-11-30T00:00:00",
          "2018-12-31T00:00:00",
          "2019-01-31T00:00:00",
          "2019-02-28T00:00:00",
          "2019-03-31T00:00:00",
          "2019-04-30T00:00:00",
          "2019-05-31T00:00:00",
          "2019-06-30T00:00:00",
          "2019-07-31T00:00:00"
         ],
         "xaxis": "x",
         "y": [
          173,
          172,
          166,
          148,
          150,
          137,
          981,
          437,
          219,
          405,
          1297,
          646,
          1734,
          1900,
          1572,
          1983,
          4525,
          3207,
          3228,
          4747,
          3656,
          2306,
          2169,
          1685,
          1323,
          1165,
          1725,
          2133,
          3350,
          3877,
          4012
         ],
         "yaxis": "y"
        }
       ],
       "layout": {
        "barmode": "relative",
        "legend": {
         "tracegroupgap": 0
        },
        "margin": {
         "t": 60
        },
        "template": {
         "data": {
          "bar": [
           {
            "error_x": {
             "color": "#2a3f5f"
            },
            "error_y": {
             "color": "#2a3f5f"
            },
            "marker": {
             "line": {
              "color": "#E5ECF6",
              "width": 0.5
             },
             "pattern": {
              "fillmode": "overlay",
              "size": 10,
              "solidity": 0.2
             }
            },
            "type": "bar"
           }
          ],
          "barpolar": [
           {
            "marker": {
             "line": {
              "color": "#E5ECF6",
              "width": 0.5
             },
             "pattern": {
              "fillmode": "overlay",
              "size": 10,
              "solidity": 0.2
             }
            },
            "type": "barpolar"
           }
          ],
          "carpet": [
           {
            "aaxis": {
             "endlinecolor": "#2a3f5f",
             "gridcolor": "white",
             "linecolor": "white",
             "minorgridcolor": "white",
             "startlinecolor": "#2a3f5f"
            },
            "baxis": {
             "endlinecolor": "#2a3f5f",
             "gridcolor": "white",
             "linecolor": "white",
             "minorgridcolor": "white",
             "startlinecolor": "#2a3f5f"
            },
            "type": "carpet"
           }
          ],
          "choropleth": [
           {
            "colorbar": {
             "outlinewidth": 0,
             "ticks": ""
            },
            "type": "choropleth"
           }
          ],
          "contour": [
           {
            "colorbar": {
             "outlinewidth": 0,
             "ticks": ""
            },
            "colorscale": [
             [
              0,
              "#0d0887"
             ],
             [
              0.1111111111111111,
              "#46039f"
             ],
             [
              0.2222222222222222,
              "#7201a8"
             ],
             [
              0.3333333333333333,
              "#9c179e"
             ],
             [
              0.4444444444444444,
              "#bd3786"
             ],
             [
              0.5555555555555556,
              "#d8576b"
             ],
             [
              0.6666666666666666,
              "#ed7953"
             ],
             [
              0.7777777777777778,
              "#fb9f3a"
             ],
             [
              0.8888888888888888,
              "#fdca26"
             ],
             [
              1,
              "#f0f921"
             ]
            ],
            "type": "contour"
           }
          ],
          "contourcarpet": [
           {
            "colorbar": {
             "outlinewidth": 0,
             "ticks": ""
            },
            "type": "contourcarpet"
           }
          ],
          "heatmap": [
           {
            "colorbar": {
             "outlinewidth": 0,
             "ticks": ""
            },
            "colorscale": [
             [
              0,
              "#0d0887"
             ],
             [
              0.1111111111111111,
              "#46039f"
             ],
             [
              0.2222222222222222,
              "#7201a8"
             ],
             [
              0.3333333333333333,
              "#9c179e"
             ],
             [
              0.4444444444444444,
              "#bd3786"
             ],
             [
              0.5555555555555556,
              "#d8576b"
             ],
             [
              0.6666666666666666,
              "#ed7953"
             ],
             [
              0.7777777777777778,
              "#fb9f3a"
             ],
             [
              0.8888888888888888,
              "#fdca26"
             ],
             [
              1,
              "#f0f921"
             ]
            ],
            "type": "heatmap"
           }
          ],
          "heatmapgl": [
           {
            "colorbar": {
             "outlinewidth": 0,
             "ticks": ""
            },
            "colorscale": [
             [
              0,
              "#0d0887"
             ],
             [
              0.1111111111111111,
              "#46039f"
             ],
             [
              0.2222222222222222,
              "#7201a8"
             ],
             [
              0.3333333333333333,
              "#9c179e"
             ],
             [
              0.4444444444444444,
              "#bd3786"
             ],
             [
              0.5555555555555556,
              "#d8576b"
             ],
             [
              0.6666666666666666,
              "#ed7953"
             ],
             [
              0.7777777777777778,
              "#fb9f3a"
             ],
             [
              0.8888888888888888,
              "#fdca26"
             ],
             [
              1,
              "#f0f921"
             ]
            ],
            "type": "heatmapgl"
           }
          ],
          "histogram": [
           {
            "marker": {
             "pattern": {
              "fillmode": "overlay",
              "size": 10,
              "solidity": 0.2
             }
            },
            "type": "histogram"
           }
          ],
          "histogram2d": [
           {
            "colorbar": {
             "outlinewidth": 0,
             "ticks": ""
            },
            "colorscale": [
             [
              0,
              "#0d0887"
             ],
             [
              0.1111111111111111,
              "#46039f"
             ],
             [
              0.2222222222222222,
              "#7201a8"
             ],
             [
              0.3333333333333333,
              "#9c179e"
             ],
             [
              0.4444444444444444,
              "#bd3786"
             ],
             [
              0.5555555555555556,
              "#d8576b"
             ],
             [
              0.6666666666666666,
              "#ed7953"
             ],
             [
              0.7777777777777778,
              "#fb9f3a"
             ],
             [
              0.8888888888888888,
              "#fdca26"
             ],
             [
              1,
              "#f0f921"
             ]
            ],
            "type": "histogram2d"
           }
          ],
          "histogram2dcontour": [
           {
            "colorbar": {
             "outlinewidth": 0,
             "ticks": ""
            },
            "colorscale": [
             [
              0,
              "#0d0887"
             ],
             [
              0.1111111111111111,
              "#46039f"
             ],
             [
              0.2222222222222222,
              "#7201a8"
             ],
             [
              0.3333333333333333,
              "#9c179e"
             ],
             [
              0.4444444444444444,
              "#bd3786"
             ],
             [
              0.5555555555555556,
              "#d8576b"
             ],
             [
              0.6666666666666666,
              "#ed7953"
             ],
             [
              0.7777777777777778,
              "#fb9f3a"
             ],
             [
              0.8888888888888888,
              "#fdca26"
             ],
             [
              1,
              "#f0f921"
             ]
            ],
            "type": "histogram2dcontour"
           }
          ],
          "mesh3d": [
           {
            "colorbar": {
             "outlinewidth": 0,
             "ticks": ""
            },
            "type": "mesh3d"
           }
          ],
          "parcoords": [
           {
            "line": {
             "colorbar": {
              "outlinewidth": 0,
              "ticks": ""
             }
            },
            "type": "parcoords"
           }
          ],
          "pie": [
           {
            "automargin": true,
            "type": "pie"
           }
          ],
          "scatter": [
           {
            "marker": {
             "colorbar": {
              "outlinewidth": 0,
              "ticks": ""
             }
            },
            "type": "scatter"
           }
          ],
          "scatter3d": [
           {
            "line": {
             "colorbar": {
              "outlinewidth": 0,
              "ticks": ""
             }
            },
            "marker": {
             "colorbar": {
              "outlinewidth": 0,
              "ticks": ""
             }
            },
            "type": "scatter3d"
           }
          ],
          "scattercarpet": [
           {
            "marker": {
             "colorbar": {
              "outlinewidth": 0,
              "ticks": ""
             }
            },
            "type": "scattercarpet"
           }
          ],
          "scattergeo": [
           {
            "marker": {
             "colorbar": {
              "outlinewidth": 0,
              "ticks": ""
             }
            },
            "type": "scattergeo"
           }
          ],
          "scattergl": [
           {
            "marker": {
             "colorbar": {
              "outlinewidth": 0,
              "ticks": ""
             }
            },
            "type": "scattergl"
           }
          ],
          "scattermapbox": [
           {
            "marker": {
             "colorbar": {
              "outlinewidth": 0,
              "ticks": ""
             }
            },
            "type": "scattermapbox"
           }
          ],
          "scatterpolar": [
           {
            "marker": {
             "colorbar": {
              "outlinewidth": 0,
              "ticks": ""
             }
            },
            "type": "scatterpolar"
           }
          ],
          "scatterpolargl": [
           {
            "marker": {
             "colorbar": {
              "outlinewidth": 0,
              "ticks": ""
             }
            },
            "type": "scatterpolargl"
           }
          ],
          "scatterternary": [
           {
            "marker": {
             "colorbar": {
              "outlinewidth": 0,
              "ticks": ""
             }
            },
            "type": "scatterternary"
           }
          ],
          "surface": [
           {
            "colorbar": {
             "outlinewidth": 0,
             "ticks": ""
            },
            "colorscale": [
             [
              0,
              "#0d0887"
             ],
             [
              0.1111111111111111,
              "#46039f"
             ],
             [
              0.2222222222222222,
              "#7201a8"
             ],
             [
              0.3333333333333333,
              "#9c179e"
             ],
             [
              0.4444444444444444,
              "#bd3786"
             ],
             [
              0.5555555555555556,
              "#d8576b"
             ],
             [
              0.6666666666666666,
              "#ed7953"
             ],
             [
              0.7777777777777778,
              "#fb9f3a"
             ],
             [
              0.8888888888888888,
              "#fdca26"
             ],
             [
              1,
              "#f0f921"
             ]
            ],
            "type": "surface"
           }
          ],
          "table": [
           {
            "cells": {
             "fill": {
              "color": "#EBF0F8"
             },
             "line": {
              "color": "white"
             }
            },
            "header": {
             "fill": {
              "color": "#C8D4E3"
             },
             "line": {
              "color": "white"
             }
            },
            "type": "table"
           }
          ]
         },
         "layout": {
          "annotationdefaults": {
           "arrowcolor": "#2a3f5f",
           "arrowhead": 0,
           "arrowwidth": 1
          },
          "autotypenumbers": "strict",
          "coloraxis": {
           "colorbar": {
            "outlinewidth": 0,
            "ticks": ""
           }
          },
          "colorscale": {
           "diverging": [
            [
             0,
             "#8e0152"
            ],
            [
             0.1,
             "#c51b7d"
            ],
            [
             0.2,
             "#de77ae"
            ],
            [
             0.3,
             "#f1b6da"
            ],
            [
             0.4,
             "#fde0ef"
            ],
            [
             0.5,
             "#f7f7f7"
            ],
            [
             0.6,
             "#e6f5d0"
            ],
            [
             0.7,
             "#b8e186"
            ],
            [
             0.8,
             "#7fbc41"
            ],
            [
             0.9,
             "#4d9221"
            ],
            [
             1,
             "#276419"
            ]
           ],
           "sequential": [
            [
             0,
             "#0d0887"
            ],
            [
             0.1111111111111111,
             "#46039f"
            ],
            [
             0.2222222222222222,
             "#7201a8"
            ],
            [
             0.3333333333333333,
             "#9c179e"
            ],
            [
             0.4444444444444444,
             "#bd3786"
            ],
            [
             0.5555555555555556,
             "#d8576b"
            ],
            [
             0.6666666666666666,
             "#ed7953"
            ],
            [
             0.7777777777777778,
             "#fb9f3a"
            ],
            [
             0.8888888888888888,
             "#fdca26"
            ],
            [
             1,
             "#f0f921"
            ]
           ],
           "sequentialminus": [
            [
             0,
             "#0d0887"
            ],
            [
             0.1111111111111111,
             "#46039f"
            ],
            [
             0.2222222222222222,
             "#7201a8"
            ],
            [
             0.3333333333333333,
             "#9c179e"
            ],
            [
             0.4444444444444444,
             "#bd3786"
            ],
            [
             0.5555555555555556,
             "#d8576b"
            ],
            [
             0.6666666666666666,
             "#ed7953"
            ],
            [
             0.7777777777777778,
             "#fb9f3a"
            ],
            [
             0.8888888888888888,
             "#fdca26"
            ],
            [
             1,
             "#f0f921"
            ]
           ]
          },
          "colorway": [
           "#636efa",
           "#EF553B",
           "#00cc96",
           "#ab63fa",
           "#FFA15A",
           "#19d3f3",
           "#FF6692",
           "#B6E880",
           "#FF97FF",
           "#FECB52"
          ],
          "font": {
           "color": "#2a3f5f"
          },
          "geo": {
           "bgcolor": "white",
           "lakecolor": "white",
           "landcolor": "#E5ECF6",
           "showlakes": true,
           "showland": true,
           "subunitcolor": "white"
          },
          "hoverlabel": {
           "align": "left"
          },
          "hovermode": "closest",
          "mapbox": {
           "style": "light"
          },
          "paper_bgcolor": "white",
          "plot_bgcolor": "#E5ECF6",
          "polar": {
           "angularaxis": {
            "gridcolor": "white",
            "linecolor": "white",
            "ticks": ""
           },
           "bgcolor": "#E5ECF6",
           "radialaxis": {
            "gridcolor": "white",
            "linecolor": "white",
            "ticks": ""
           }
          },
          "scene": {
           "xaxis": {
            "backgroundcolor": "#E5ECF6",
            "gridcolor": "white",
            "gridwidth": 2,
            "linecolor": "white",
            "showbackground": true,
            "ticks": "",
            "zerolinecolor": "white"
           },
           "yaxis": {
            "backgroundcolor": "#E5ECF6",
            "gridcolor": "white",
            "gridwidth": 2,
            "linecolor": "white",
            "showbackground": true,
            "ticks": "",
            "zerolinecolor": "white"
           },
           "zaxis": {
            "backgroundcolor": "#E5ECF6",
            "gridcolor": "white",
            "gridwidth": 2,
            "linecolor": "white",
            "showbackground": true,
            "ticks": "",
            "zerolinecolor": "white"
           }
          },
          "shapedefaults": {
           "line": {
            "color": "#2a3f5f"
           }
          },
          "ternary": {
           "aaxis": {
            "gridcolor": "white",
            "linecolor": "white",
            "ticks": ""
           },
           "baxis": {
            "gridcolor": "white",
            "linecolor": "white",
            "ticks": ""
           },
           "bgcolor": "#E5ECF6",
           "caxis": {
            "gridcolor": "white",
            "linecolor": "white",
            "ticks": ""
           }
          },
          "title": {
           "x": 0.05
          },
          "xaxis": {
           "automargin": true,
           "gridcolor": "white",
           "linecolor": "white",
           "ticks": "",
           "title": {
            "standoff": 15
           },
           "zerolinecolor": "white",
           "zerolinewidth": 2
          },
          "yaxis": {
           "automargin": true,
           "gridcolor": "white",
           "linecolor": "white",
           "ticks": "",
           "title": {
            "standoff": 15
           },
           "zerolinecolor": "white",
           "zerolinewidth": 2
          }
         }
        },
        "title": {
         "text": "Units sold by month"
        },
        "xaxis": {
         "anchor": "y",
         "domain": [
          0,
          1
         ],
         "title": {
          "text": "Months"
         }
        },
        "yaxis": {
         "anchor": "x",
         "domain": [
          0,
          1
         ],
         "title": {
          "text": " Units sold"
         }
        }
       }
      }
     },
     "metadata": {}
    }
   ],
   "metadata": {}
  },
  {
   "cell_type": "markdown",
   "source": [
    "# Testing for stationarity "
   ],
   "metadata": {}
  },
  {
   "cell_type": "code",
   "execution_count": 25,
   "source": [
    "# HO : The data is not stationary.  \r\n",
    "# H1 : The data is stationary. \r\n",
    "def adfuller_test(sales):\r\n",
    "    result = adfuller(sales)\r\n",
    "    labels = ['ADF test Statistic','p-value','#Lags Used','Number of observations used']\r\n",
    "    for value,label in zip(result,labels):\r\n",
    "        print(label + ':' + str(value))\r\n",
    "    if  result[1] <= 0.05:\r\n",
    "        print('Strong evidence against the null hypothesis')\r\n",
    "    else:\r\n",
    "        print('Weak evidence against null hypothesis, time series has a unit root, indicating it is not stationary')        "
   ],
   "outputs": [],
   "metadata": {}
  },
  {
   "cell_type": "code",
   "execution_count": 22,
   "source": [
    "adfuller_test(df['sales'])"
   ],
   "outputs": [
    {
     "output_type": "stream",
     "name": "stdout",
     "text": [
      "ADF test Statistic:-1.1096440413706872\n",
      "p-value:0.7112106891948348\n",
      "#Lags Used:7\n",
      "Number of observations used:23\n",
      "Weak evidence against null hypothesis, time series has a unit root, indicating it is not stationary\n"
     ]
    }
   ],
   "metadata": {}
  },
  {
   "cell_type": "markdown",
   "source": [
    "## Based on the plots and the previous hypotesis testing, the  data is not stationary it can be seen that from May to August there are some peaks in the sales. \r\n",
    "\r\n",
    "## So, in order to apply  a forecasting method we need  _**stationary data**_. This means that the data needs to have constant _mean_, constant _variance_ and constant _covariance_ with time. "
   ],
   "metadata": {}
  },
  {
   "cell_type": "code",
   "execution_count": 33,
   "source": [
    "df['Sales first difference'] = (df['sales'] - df['sales'].shift(1))"
   ],
   "outputs": [],
   "metadata": {}
  },
  {
   "cell_type": "code",
   "execution_count": 36,
   "source": [
    "df['Sales first difference'].plot()"
   ],
   "outputs": [
    {
     "output_type": "execute_result",
     "data": {
      "text/plain": [
       "<AxesSubplot:xlabel='date'>"
      ]
     },
     "metadata": {},
     "execution_count": 36
    },
    {
     "output_type": "display_data",
     "data": {
      "image/png": "[encoded data removed]",
      "text/plain": [
       "<Figure size 432x288 with 1 Axes>"
      ]
     },
     "metadata": {
      "needs_background": "light"
     }
    }
   ],
   "metadata": {}
  },
  {
   "cell_type": "code",
   "execution_count": 35,
   "source": [
    "adfuller_test(df['Sales first difference'].dropna())"
   ],
   "outputs": [
    {
     "output_type": "stream",
     "name": "stdout",
     "text": [
      "ADF test Statistic:-2.9499658544804364\n",
      "p-value:0.03983856417029879\n",
      "#Lags Used:6\n",
      "Number of observations used:23\n",
      "Strong evidence against the null hypothesis\n"
     ]
    }
   ],
   "metadata": {}
  },
  {
   "cell_type": "markdown",
   "source": [
    "## The p-value is less than 0.05 which lead us to reject the null hypotesis so now that the data is stationary and we can apply the forecasting methods. "
   ],
   "metadata": {}
  },
  {
   "cell_type": "markdown",
   "source": [
    "# Autoregresive model. "
   ],
   "metadata": {}
  },
  {
   "cell_type": "markdown",
   "source": [
    "## How many previous days we have to take in count for making the prediction. "
   ],
   "metadata": {}
  },
  {
   "cell_type": "code",
   "execution_count": 41,
   "source": [
    "# Autocorrelation function to make ACF and PACF graphs\r\n",
    "def auto_corr(sales):\r\n",
    "    lag_acf = acf(sales,nlags=30)\r\n",
    "    lag_pacf = pacf(sales,nlags=10,method='ols')\r\n",
    "  \r\n",
    "    plt.subplot(121)\r\n",
    "    plt.plot(lag_acf)\r\n",
    "    plt.axhline(y=0,linestyle='--',color ='red')\r\n",
    "    plt.axhline(y=1.96/np.sqrt(len(df['sales'])),linestyle='--',color ='red')\r\n",
    "    plt.axhline(y=-1.96/np.sqrt(len(df['sales'])),linestyle='--',color ='red')\r\n",
    "    plt.title('ACF')\r\n",
    "    \r\n",
    "    plt.subplot(122)\r\n",
    "    plt.plot(lag_pacf)\r\n",
    "    plt.axhline(y=0,linestyle='--',color ='red')\r\n",
    "    plt.axhline(y=1.96/np.sqrt(len(df['sales'])),linestyle='--',color ='red')\r\n",
    "    plt.axhline(y=-1.96/np.sqrt(len(df['sales'])),linestyle='--',color ='red')\r\n",
    "    plt.title('PACF')"
   ],
   "outputs": [],
   "metadata": {}
  },
  {
   "cell_type": "code",
   "execution_count": 52,
   "source": [
    "\r\n",
    "# ACF and PACF for store type a\r\n",
    "auto_corr(df['Sales first difference'].dropna())"
   ],
   "outputs": [
    {
     "output_type": "display_data",
     "data": {
      "image/png": "[encoded data removed]",
      "text/plain": [
       "<Figure size 432x288 with 2 Axes>"
      ]
     },
     "metadata": {
      "needs_background": "light"
     }
    }
   ],
   "metadata": {}
  },
  {
   "cell_type": "code",
   "execution_count": 43,
   "source": [
    "# Define the p, d and q parameters to take any value between 0 and 3\r\n",
    "p = d = q = range(0, 2)\r\n",
    "\r\n",
    "# Generate all different combinations of p, q and q triplets\r\n",
    "pdq = list(itertools.product(p, d, q))\r\n",
    "\r\n",
    "# Generate all different combinations of seasonal p, q and q triplets\r\n",
    "seasonal_pdq = [(x[0], x[1], x[2], 12) for x in list(itertools.product(p, d, q))]\r\n",
    "\r\n",
    "print('Examples of parameter combinations for Seasonal ARIMA: ')\r\n",
    "print('SARIMAX: {} x {}'.format(pdq[1], seasonal_pdq[1]))\r\n",
    "print('SARIMAX: {} x {}'.format(pdq[1], seasonal_pdq[2]))\r\n",
    "print('SARIMAX: {} x {}'.format(pdq[2], seasonal_pdq[3]))\r\n",
    "print('SARIMAX: {} x {}'.format(pdq[2], seasonal_pdq[4]))"
   ],
   "outputs": [
    {
     "output_type": "stream",
     "name": "stdout",
     "text": [
      "Examples of parameter combinations for Seasonal ARIMA: \n",
      "SARIMAX: (0, 0, 1) x (0, 0, 1, 12)\n",
      "SARIMAX: (0, 0, 1) x (0, 1, 0, 12)\n",
      "SARIMAX: (0, 1, 0) x (0, 1, 1, 12)\n",
      "SARIMAX: (0, 1, 0) x (1, 0, 0, 12)\n"
     ]
    }
   ],
   "metadata": {}
  },
  {
   "cell_type": "code",
   "execution_count": 47,
   "source": [
    "df"
   ],
   "outputs": [
    {
     "output_type": "execute_result",
     "data": {
      "text/html": [
       "<div>\n",
       "<style scoped>\n",
       "    .dataframe tbody tr th:only-of-type {\n",
       "        vertical-align: middle;\n",
       "    }\n",
       "\n",
       "    .dataframe tbody tr th {\n",
       "        vertical-align: top;\n",
       "    }\n",
       "\n",
       "    .dataframe thead th {\n",
       "        text-align: right;\n",
       "    }\n",
       "</style>\n",
       "<table border=\"1\" class=\"dataframe\">\n",
       "  <thead>\n",
       "    <tr style=\"text-align: right;\">\n",
       "      <th></th>\n",
       "      <th>grp_A_1</th>\n",
       "      <th>grp_B_1</th>\n",
       "      <th>grp_A_2</th>\n",
       "      <th>grp_B_2</th>\n",
       "      <th>grp_A_3</th>\n",
       "      <th>grp_B_3</th>\n",
       "      <th>grp_A_4</th>\n",
       "      <th>grp_B_4</th>\n",
       "      <th>grp_A_5</th>\n",
       "      <th>grp_B_5</th>\n",
       "      <th>...</th>\n",
       "      <th>Dayofweek</th>\n",
       "      <th>Dayofyear</th>\n",
       "      <th>Is_month_end</th>\n",
       "      <th>Is_month_start</th>\n",
       "      <th>Is_quarter_end</th>\n",
       "      <th>Is_quarter_start</th>\n",
       "      <th>Is_year_end</th>\n",
       "      <th>Is_year_start</th>\n",
       "      <th>sales</th>\n",
       "      <th>Sales first difference</th>\n",
       "    </tr>\n",
       "    <tr>\n",
       "      <th>date</th>\n",
       "      <th></th>\n",
       "      <th></th>\n",
       "      <th></th>\n",
       "      <th></th>\n",
       "      <th></th>\n",
       "      <th></th>\n",
       "      <th></th>\n",
       "      <th></th>\n",
       "      <th></th>\n",
       "      <th></th>\n",
       "      <th></th>\n",
       "      <th></th>\n",
       "      <th></th>\n",
       "      <th></th>\n",
       "      <th></th>\n",
       "      <th></th>\n",
       "      <th></th>\n",
       "      <th></th>\n",
       "      <th></th>\n",
       "      <th></th>\n",
       "      <th></th>\n",
       "    </tr>\n",
       "  </thead>\n",
       "  <tbody>\n",
       "    <tr>\n",
       "      <th>2017-01-31</th>\n",
       "      <td>3787.07</td>\n",
       "      <td>245.03</td>\n",
       "      <td>9.231771e+04</td>\n",
       "      <td>219.375000</td>\n",
       "      <td>57287.428570</td>\n",
       "      <td>137.553571</td>\n",
       "      <td>26347.571430</td>\n",
       "      <td>77.553571</td>\n",
       "      <td>1.368979e+06</td>\n",
       "      <td>359.500000</td>\n",
       "      <td>...</td>\n",
       "      <td>17.0</td>\n",
       "      <td>1371.0</td>\n",
       "      <td>0.0</td>\n",
       "      <td>5.0</td>\n",
       "      <td>0.0</td>\n",
       "      <td>1.0</td>\n",
       "      <td>0.0</td>\n",
       "      <td>0.0</td>\n",
       "      <td>173.0</td>\n",
       "      <td>NaN</td>\n",
       "    </tr>\n",
       "    <tr>\n",
       "      <th>2017-02-28</th>\n",
       "      <td>3874.51</td>\n",
       "      <td>241.96</td>\n",
       "      <td>9.544829e+04</td>\n",
       "      <td>216.160714</td>\n",
       "      <td>57956.714286</td>\n",
       "      <td>135.482143</td>\n",
       "      <td>27707.571424</td>\n",
       "      <td>77.696429</td>\n",
       "      <td>1.399663e+06</td>\n",
       "      <td>354.678571</td>\n",
       "      <td>...</td>\n",
       "      <td>15.0</td>\n",
       "      <td>1376.0</td>\n",
       "      <td>0.0</td>\n",
       "      <td>0.0</td>\n",
       "      <td>0.0</td>\n",
       "      <td>0.0</td>\n",
       "      <td>0.0</td>\n",
       "      <td>0.0</td>\n",
       "      <td>172.0</td>\n",
       "      <td>-1.0</td>\n",
       "    </tr>\n",
       "    <tr>\n",
       "      <th>2017-03-31</th>\n",
       "      <td>3961.93</td>\n",
       "      <td>238.89</td>\n",
       "      <td>9.857886e+04</td>\n",
       "      <td>212.946429</td>\n",
       "      <td>58626.000000</td>\n",
       "      <td>133.410714</td>\n",
       "      <td>29067.571429</td>\n",
       "      <td>77.839286</td>\n",
       "      <td>1.430348e+06</td>\n",
       "      <td>349.857143</td>\n",
       "      <td>...</td>\n",
       "      <td>20.0</td>\n",
       "      <td>1381.0</td>\n",
       "      <td>0.0</td>\n",
       "      <td>0.0</td>\n",
       "      <td>0.0</td>\n",
       "      <td>0.0</td>\n",
       "      <td>0.0</td>\n",
       "      <td>0.0</td>\n",
       "      <td>166.0</td>\n",
       "      <td>-6.0</td>\n",
       "    </tr>\n",
       "    <tr>\n",
       "      <th>2017-04-30</th>\n",
       "      <td>4167.79</td>\n",
       "      <td>236.02</td>\n",
       "      <td>1.033969e+05</td>\n",
       "      <td>209.596429</td>\n",
       "      <td>60308.428570</td>\n",
       "      <td>130.175000</td>\n",
       "      <td>30959.857143</td>\n",
       "      <td>77.689286</td>\n",
       "      <td>1.482163e+06</td>\n",
       "      <td>345.357143</td>\n",
       "      <td>...</td>\n",
       "      <td>11.0</td>\n",
       "      <td>1386.0</td>\n",
       "      <td>0.0</td>\n",
       "      <td>0.0</td>\n",
       "      <td>0.0</td>\n",
       "      <td>0.0</td>\n",
       "      <td>0.0</td>\n",
       "      <td>0.0</td>\n",
       "      <td>148.0</td>\n",
       "      <td>-18.0</td>\n",
       "    </tr>\n",
       "    <tr>\n",
       "      <th>2017-05-31</th>\n",
       "      <td>4373.64</td>\n",
       "      <td>233.17</td>\n",
       "      <td>1.082149e+05</td>\n",
       "      <td>206.246429</td>\n",
       "      <td>61990.857140</td>\n",
       "      <td>126.939286</td>\n",
       "      <td>32852.142857</td>\n",
       "      <td>77.539286</td>\n",
       "      <td>1.533978e+06</td>\n",
       "      <td>340.857143</td>\n",
       "      <td>...</td>\n",
       "      <td>16.0</td>\n",
       "      <td>1391.0</td>\n",
       "      <td>0.0</td>\n",
       "      <td>0.0</td>\n",
       "      <td>0.0</td>\n",
       "      <td>0.0</td>\n",
       "      <td>0.0</td>\n",
       "      <td>0.0</td>\n",
       "      <td>150.0</td>\n",
       "      <td>2.0</td>\n",
       "    </tr>\n",
       "    <tr>\n",
       "      <th>2017-06-30</th>\n",
       "      <td>4466.93</td>\n",
       "      <td>231.06</td>\n",
       "      <td>1.108686e+05</td>\n",
       "      <td>204.139286</td>\n",
       "      <td>62795.571430</td>\n",
       "      <td>125.617857</td>\n",
       "      <td>33902.428571</td>\n",
       "      <td>77.717857</td>\n",
       "      <td>1.560063e+06</td>\n",
       "      <td>340.821429</td>\n",
       "      <td>...</td>\n",
       "      <td>14.0</td>\n",
       "      <td>1396.0</td>\n",
       "      <td>0.0</td>\n",
       "      <td>0.0</td>\n",
       "      <td>0.0</td>\n",
       "      <td>0.0</td>\n",
       "      <td>0.0</td>\n",
       "      <td>0.0</td>\n",
       "      <td>137.0</td>\n",
       "      <td>-13.0</td>\n",
       "    </tr>\n",
       "    <tr>\n",
       "      <th>2017-07-31</th>\n",
       "      <td>11960.71</td>\n",
       "      <td>1304.92</td>\n",
       "      <td>2.729703e+05</td>\n",
       "      <td>1192.407143</td>\n",
       "      <td>224378.285710</td>\n",
       "      <td>767.921429</td>\n",
       "      <td>57315.714286</td>\n",
       "      <td>370.021429</td>\n",
       "      <td>4.824280e+06</td>\n",
       "      <td>1884.535714</td>\n",
       "      <td>...</td>\n",
       "      <td>72.0</td>\n",
       "      <td>5258.0</td>\n",
       "      <td>1.0</td>\n",
       "      <td>0.0</td>\n",
       "      <td>0.0</td>\n",
       "      <td>0.0</td>\n",
       "      <td>0.0</td>\n",
       "      <td>0.0</td>\n",
       "      <td>981.0</td>\n",
       "      <td>844.0</td>\n",
       "    </tr>\n",
       "    <tr>\n",
       "      <th>2017-08-31</th>\n",
       "      <td>12054.00</td>\n",
       "      <td>1302.82</td>\n",
       "      <td>2.756240e+05</td>\n",
       "      <td>1190.300000</td>\n",
       "      <td>225183.000000</td>\n",
       "      <td>766.600000</td>\n",
       "      <td>58366.000000</td>\n",
       "      <td>370.200000</td>\n",
       "      <td>4.850365e+06</td>\n",
       "      <td>1884.500000</td>\n",
       "      <td>...</td>\n",
       "      <td>71.0</td>\n",
       "      <td>5852.0</td>\n",
       "      <td>1.0</td>\n",
       "      <td>0.0</td>\n",
       "      <td>0.0</td>\n",
       "      <td>0.0</td>\n",
       "      <td>0.0</td>\n",
       "      <td>0.0</td>\n",
       "      <td>437.0</td>\n",
       "      <td>-544.0</td>\n",
       "    </tr>\n",
       "    <tr>\n",
       "      <th>2017-09-30</th>\n",
       "      <td>11664.50</td>\n",
       "      <td>1246.19</td>\n",
       "      <td>2.672320e+05</td>\n",
       "      <td>1138.175000</td>\n",
       "      <td>216721.000000</td>\n",
       "      <td>732.725000</td>\n",
       "      <td>57189.000000</td>\n",
       "      <td>354.825000</td>\n",
       "      <td>4.679937e+06</td>\n",
       "      <td>1803.250000</td>\n",
       "      <td>...</td>\n",
       "      <td>71.0</td>\n",
       "      <td>6172.0</td>\n",
       "      <td>1.0</td>\n",
       "      <td>0.0</td>\n",
       "      <td>1.0</td>\n",
       "      <td>0.0</td>\n",
       "      <td>0.0</td>\n",
       "      <td>0.0</td>\n",
       "      <td>219.0</td>\n",
       "      <td>-218.0</td>\n",
       "    </tr>\n",
       "    <tr>\n",
       "      <th>2017-10-31</th>\n",
       "      <td>24798.71</td>\n",
       "      <td>1020.29</td>\n",
       "      <td>6.350609e+05</td>\n",
       "      <td>906.321429</td>\n",
       "      <td>334843.142860</td>\n",
       "      <td>585.107143</td>\n",
       "      <td>200580.000000</td>\n",
       "      <td>392.964286</td>\n",
       "      <td>8.396860e+06</td>\n",
       "      <td>1866.357143</td>\n",
       "      <td>...</td>\n",
       "      <td>78.0</td>\n",
       "      <td>7021.0</td>\n",
       "      <td>1.0</td>\n",
       "      <td>0.0</td>\n",
       "      <td>0.0</td>\n",
       "      <td>0.0</td>\n",
       "      <td>0.0</td>\n",
       "      <td>0.0</td>\n",
       "      <td>405.0</td>\n",
       "      <td>186.0</td>\n",
       "    </tr>\n",
       "    <tr>\n",
       "      <th>2017-11-30</th>\n",
       "      <td>36807.71</td>\n",
       "      <td>939.83</td>\n",
       "      <td>8.658177e+05</td>\n",
       "      <td>769.557143</td>\n",
       "      <td>427037.571430</td>\n",
       "      <td>370.542857</td>\n",
       "      <td>291471.142860</td>\n",
       "      <td>354.228571</td>\n",
       "      <td>1.116775e+07</td>\n",
       "      <td>1314.285714</td>\n",
       "      <td>...</td>\n",
       "      <td>60.0</td>\n",
       "      <td>7472.0</td>\n",
       "      <td>1.0</td>\n",
       "      <td>0.0</td>\n",
       "      <td>0.0</td>\n",
       "      <td>0.0</td>\n",
       "      <td>0.0</td>\n",
       "      <td>0.0</td>\n",
       "      <td>1297.0</td>\n",
       "      <td>892.0</td>\n",
       "    </tr>\n",
       "    <tr>\n",
       "      <th>2017-12-31</th>\n",
       "      <td>24071.50</td>\n",
       "      <td>950.95</td>\n",
       "      <td>7.003820e+05</td>\n",
       "      <td>814.925000</td>\n",
       "      <td>322660.000000</td>\n",
       "      <td>524.975000</td>\n",
       "      <td>240423.000000</td>\n",
       "      <td>404.575000</td>\n",
       "      <td>9.101860e+06</td>\n",
       "      <td>1324.500000</td>\n",
       "      <td>...</td>\n",
       "      <td>80.0</td>\n",
       "      <td>8383.0</td>\n",
       "      <td>1.0</td>\n",
       "      <td>0.0</td>\n",
       "      <td>1.0</td>\n",
       "      <td>0.0</td>\n",
       "      <td>1.0</td>\n",
       "      <td>0.0</td>\n",
       "      <td>646.0</td>\n",
       "      <td>-651.0</td>\n",
       "    </tr>\n",
       "    <tr>\n",
       "      <th>2018-01-31</th>\n",
       "      <td>39944.16</td>\n",
       "      <td>1154.92</td>\n",
       "      <td>1.198935e+06</td>\n",
       "      <td>927.328571</td>\n",
       "      <td>348959.999996</td>\n",
       "      <td>602.357143</td>\n",
       "      <td>313461.285711</td>\n",
       "      <td>360.471429</td>\n",
       "      <td>7.774497e+06</td>\n",
       "      <td>1104.928571</td>\n",
       "      <td>...</td>\n",
       "      <td>94.0</td>\n",
       "      <td>2428.0</td>\n",
       "      <td>1.0</td>\n",
       "      <td>12.0</td>\n",
       "      <td>0.0</td>\n",
       "      <td>4.0</td>\n",
       "      <td>0.0</td>\n",
       "      <td>1.0</td>\n",
       "      <td>1734.0</td>\n",
       "      <td>1088.0</td>\n",
       "    </tr>\n",
       "    <tr>\n",
       "      <th>2018-02-28</th>\n",
       "      <td>39199.79</td>\n",
       "      <td>1016.02</td>\n",
       "      <td>1.190444e+06</td>\n",
       "      <td>821.896429</td>\n",
       "      <td>355103.428581</td>\n",
       "      <td>511.703571</td>\n",
       "      <td>318397.857142</td>\n",
       "      <td>390.725000</td>\n",
       "      <td>8.940757e+06</td>\n",
       "      <td>1037.871429</td>\n",
       "      <td>...</td>\n",
       "      <td>81.0</td>\n",
       "      <td>2846.0</td>\n",
       "      <td>1.0</td>\n",
       "      <td>0.0</td>\n",
       "      <td>0.0</td>\n",
       "      <td>0.0</td>\n",
       "      <td>0.0</td>\n",
       "      <td>0.0</td>\n",
       "      <td>1900.0</td>\n",
       "      <td>166.0</td>\n",
       "    </tr>\n",
       "    <tr>\n",
       "      <th>2018-03-31</th>\n",
       "      <td>38240.14</td>\n",
       "      <td>1161.89</td>\n",
       "      <td>1.300890e+06</td>\n",
       "      <td>956.657143</td>\n",
       "      <td>406393.285716</td>\n",
       "      <td>632.114286</td>\n",
       "      <td>296254.285706</td>\n",
       "      <td>433.850000</td>\n",
       "      <td>1.022502e+07</td>\n",
       "      <td>1288.342857</td>\n",
       "      <td>...</td>\n",
       "      <td>91.0</td>\n",
       "      <td>3573.0</td>\n",
       "      <td>1.0</td>\n",
       "      <td>0.0</td>\n",
       "      <td>1.0</td>\n",
       "      <td>0.0</td>\n",
       "      <td>0.0</td>\n",
       "      <td>0.0</td>\n",
       "      <td>1572.0</td>\n",
       "      <td>-328.0</td>\n",
       "    </tr>\n",
       "    <tr>\n",
       "      <th>2018-04-30</th>\n",
       "      <td>18199.77</td>\n",
       "      <td>1854.20</td>\n",
       "      <td>7.042399e+05</td>\n",
       "      <td>1609.389286</td>\n",
       "      <td>315588.428572</td>\n",
       "      <td>864.346429</td>\n",
       "      <td>139641.142862</td>\n",
       "      <td>788.232143</td>\n",
       "      <td>7.604119e+06</td>\n",
       "      <td>1879.028571</td>\n",
       "      <td>...</td>\n",
       "      <td>96.0</td>\n",
       "      <td>4053.0</td>\n",
       "      <td>1.0</td>\n",
       "      <td>0.0</td>\n",
       "      <td>0.0</td>\n",
       "      <td>0.0</td>\n",
       "      <td>0.0</td>\n",
       "      <td>0.0</td>\n",
       "      <td>1983.0</td>\n",
       "      <td>411.0</td>\n",
       "    </tr>\n",
       "    <tr>\n",
       "      <th>2018-05-31</th>\n",
       "      <td>15799.29</td>\n",
       "      <td>2092.70</td>\n",
       "      <td>5.191943e+05</td>\n",
       "      <td>1782.857143</td>\n",
       "      <td>302763.428564</td>\n",
       "      <td>959.007143</td>\n",
       "      <td>139245.571430</td>\n",
       "      <td>893.057143</td>\n",
       "      <td>7.456194e+06</td>\n",
       "      <td>1786.492857</td>\n",
       "      <td>...</td>\n",
       "      <td>84.0</td>\n",
       "      <td>4756.0</td>\n",
       "      <td>1.0</td>\n",
       "      <td>0.0</td>\n",
       "      <td>0.0</td>\n",
       "      <td>0.0</td>\n",
       "      <td>0.0</td>\n",
       "      <td>0.0</td>\n",
       "      <td>4525.0</td>\n",
       "      <td>2542.0</td>\n",
       "    </tr>\n",
       "    <tr>\n",
       "      <th>2018-06-30</th>\n",
       "      <td>15486.93</td>\n",
       "      <td>1790.59</td>\n",
       "      <td>4.732234e+05</td>\n",
       "      <td>1480.939286</td>\n",
       "      <td>255508.285710</td>\n",
       "      <td>790.125000</td>\n",
       "      <td>124701.714287</td>\n",
       "      <td>725.382143</td>\n",
       "      <td>6.925799e+06</td>\n",
       "      <td>1423.300000</td>\n",
       "      <td>...</td>\n",
       "      <td>82.0</td>\n",
       "      <td>4680.0</td>\n",
       "      <td>1.0</td>\n",
       "      <td>0.0</td>\n",
       "      <td>1.0</td>\n",
       "      <td>0.0</td>\n",
       "      <td>0.0</td>\n",
       "      <td>0.0</td>\n",
       "      <td>3207.0</td>\n",
       "      <td>-1318.0</td>\n",
       "    </tr>\n",
       "    <tr>\n",
       "      <th>2018-07-31</th>\n",
       "      <td>16174.43</td>\n",
       "      <td>2025.62</td>\n",
       "      <td>5.598976e+05</td>\n",
       "      <td>1877.392857</td>\n",
       "      <td>260192.714284</td>\n",
       "      <td>1173.192857</td>\n",
       "      <td>115292.714286</td>\n",
       "      <td>767.778571</td>\n",
       "      <td>7.616375e+06</td>\n",
       "      <td>1779.150000</td>\n",
       "      <td>...</td>\n",
       "      <td>98.0</td>\n",
       "      <td>5939.0</td>\n",
       "      <td>1.0</td>\n",
       "      <td>0.0</td>\n",
       "      <td>0.0</td>\n",
       "      <td>0.0</td>\n",
       "      <td>0.0</td>\n",
       "      <td>0.0</td>\n",
       "      <td>3228.0</td>\n",
       "      <td>21.0</td>\n",
       "    </tr>\n",
       "    <tr>\n",
       "      <th>2018-08-31</th>\n",
       "      <td>14922.00</td>\n",
       "      <td>1960.53</td>\n",
       "      <td>5.067913e+05</td>\n",
       "      <td>1746.885714</td>\n",
       "      <td>244273.285714</td>\n",
       "      <td>853.650000</td>\n",
       "      <td>113960.714286</td>\n",
       "      <td>817.657143</td>\n",
       "      <td>6.801241e+06</td>\n",
       "      <td>1969.242857</td>\n",
       "      <td>...</td>\n",
       "      <td>90.0</td>\n",
       "      <td>6540.0</td>\n",
       "      <td>1.0</td>\n",
       "      <td>0.0</td>\n",
       "      <td>0.0</td>\n",
       "      <td>0.0</td>\n",
       "      <td>0.0</td>\n",
       "      <td>0.0</td>\n",
       "      <td>4747.0</td>\n",
       "      <td>1519.0</td>\n",
       "    </tr>\n",
       "    <tr>\n",
       "      <th>2018-09-30</th>\n",
       "      <td>17149.00</td>\n",
       "      <td>1574.35</td>\n",
       "      <td>5.079740e+05</td>\n",
       "      <td>1396.050000</td>\n",
       "      <td>276557.000000</td>\n",
       "      <td>863.700000</td>\n",
       "      <td>127832.000000</td>\n",
       "      <td>520.050000</td>\n",
       "      <td>6.824872e+06</td>\n",
       "      <td>1768.200000</td>\n",
       "      <td>...</td>\n",
       "      <td>96.0</td>\n",
       "      <td>6867.0</td>\n",
       "      <td>1.0</td>\n",
       "      <td>0.0</td>\n",
       "      <td>1.0</td>\n",
       "      <td>0.0</td>\n",
       "      <td>0.0</td>\n",
       "      <td>0.0</td>\n",
       "      <td>3656.0</td>\n",
       "      <td>-1091.0</td>\n",
       "    </tr>\n",
       "    <tr>\n",
       "      <th>2018-10-31</th>\n",
       "      <td>30600.42</td>\n",
       "      <td>1342.81</td>\n",
       "      <td>8.839647e+05</td>\n",
       "      <td>1156.592857</td>\n",
       "      <td>396838.285720</td>\n",
       "      <td>707.714286</td>\n",
       "      <td>274833.000000</td>\n",
       "      <td>557.078571</td>\n",
       "      <td>1.063508e+07</td>\n",
       "      <td>1801.164286</td>\n",
       "      <td>...</td>\n",
       "      <td>90.0</td>\n",
       "      <td>7723.0</td>\n",
       "      <td>1.0</td>\n",
       "      <td>0.0</td>\n",
       "      <td>0.0</td>\n",
       "      <td>0.0</td>\n",
       "      <td>0.0</td>\n",
       "      <td>0.0</td>\n",
       "      <td>2306.0</td>\n",
       "      <td>-1350.0</td>\n",
       "    </tr>\n",
       "    <tr>\n",
       "      <th>2018-11-30</th>\n",
       "      <td>41310.57</td>\n",
       "      <td>1210.34</td>\n",
       "      <td>1.089731e+06</td>\n",
       "      <td>975.985714</td>\n",
       "      <td>473345.857140</td>\n",
       "      <td>473.464286</td>\n",
       "      <td>358275.714290</td>\n",
       "      <td>505.542857</td>\n",
       "      <td>1.303661e+07</td>\n",
       "      <td>1196.378571</td>\n",
       "      <td>...</td>\n",
       "      <td>91.0</td>\n",
       "      <td>7989.0</td>\n",
       "      <td>1.0</td>\n",
       "      <td>0.0</td>\n",
       "      <td>0.0</td>\n",
       "      <td>0.0</td>\n",
       "      <td>0.0</td>\n",
       "      <td>0.0</td>\n",
       "      <td>2169.0</td>\n",
       "      <td>-137.0</td>\n",
       "    </tr>\n",
       "    <tr>\n",
       "      <th>2018-12-31</th>\n",
       "      <td>29222.64</td>\n",
       "      <td>1218.30</td>\n",
       "      <td>9.365660e+05</td>\n",
       "      <td>1015.746429</td>\n",
       "      <td>373283.857140</td>\n",
       "      <td>619.003571</td>\n",
       "      <td>311125.428570</td>\n",
       "      <td>552.889286</td>\n",
       "      <td>1.106874e+07</td>\n",
       "      <td>1188.485714</td>\n",
       "      <td>...</td>\n",
       "      <td>90.0</td>\n",
       "      <td>8906.0</td>\n",
       "      <td>1.0</td>\n",
       "      <td>0.0</td>\n",
       "      <td>1.0</td>\n",
       "      <td>0.0</td>\n",
       "      <td>1.0</td>\n",
       "      <td>0.0</td>\n",
       "      <td>1685.0</td>\n",
       "      <td>-484.0</td>\n",
       "    </tr>\n",
       "    <tr>\n",
       "      <th>2019-01-31</th>\n",
       "      <td>35827.51</td>\n",
       "      <td>822.41</td>\n",
       "      <td>1.140056e+06</td>\n",
       "      <td>610.660714</td>\n",
       "      <td>283722.000004</td>\n",
       "      <td>406.596429</td>\n",
       "      <td>309852.428572</td>\n",
       "      <td>267.025000</td>\n",
       "      <td>6.746311e+06</td>\n",
       "      <td>397.764286</td>\n",
       "      <td>...</td>\n",
       "      <td>70.0</td>\n",
       "      <td>1057.0</td>\n",
       "      <td>1.0</td>\n",
       "      <td>7.0</td>\n",
       "      <td>0.0</td>\n",
       "      <td>3.0</td>\n",
       "      <td>0.0</td>\n",
       "      <td>1.0</td>\n",
       "      <td>1323.0</td>\n",
       "      <td>-362.0</td>\n",
       "    </tr>\n",
       "    <tr>\n",
       "      <th>2019-02-28</th>\n",
       "      <td>34683.92</td>\n",
       "      <td>703.77</td>\n",
       "      <td>1.117121e+06</td>\n",
       "      <td>527.303571</td>\n",
       "      <td>289235.857149</td>\n",
       "      <td>332.382143</td>\n",
       "      <td>306329.428563</td>\n",
       "      <td>297.775000</td>\n",
       "      <td>7.777609e+06</td>\n",
       "      <td>390.442857</td>\n",
       "      <td>...</td>\n",
       "      <td>70.0</td>\n",
       "      <td>1470.0</td>\n",
       "      <td>1.0</td>\n",
       "      <td>0.0</td>\n",
       "      <td>0.0</td>\n",
       "      <td>0.0</td>\n",
       "      <td>0.0</td>\n",
       "      <td>0.0</td>\n",
       "      <td>1165.0</td>\n",
       "      <td>-158.0</td>\n",
       "    </tr>\n",
       "    <tr>\n",
       "      <th>2019-03-31</th>\n",
       "      <td>33664.49</td>\n",
       "      <td>840.49</td>\n",
       "      <td>1.229891e+06</td>\n",
       "      <td>652.603571</td>\n",
       "      <td>337402.857146</td>\n",
       "      <td>448.403571</td>\n",
       "      <td>287696.428576</td>\n",
       "      <td>339.989286</td>\n",
       "      <td>9.053643e+06</td>\n",
       "      <td>589.450000</td>\n",
       "      <td>...</td>\n",
       "      <td>85.0</td>\n",
       "      <td>2192.0</td>\n",
       "      <td>1.0</td>\n",
       "      <td>0.0</td>\n",
       "      <td>1.0</td>\n",
       "      <td>0.0</td>\n",
       "      <td>0.0</td>\n",
       "      <td>0.0</td>\n",
       "      <td>1725.0</td>\n",
       "      <td>560.0</td>\n",
       "    </tr>\n",
       "    <tr>\n",
       "      <th>2019-04-30</th>\n",
       "      <td>13417.79</td>\n",
       "      <td>1541.74</td>\n",
       "      <td>6.232423e+05</td>\n",
       "      <td>1314.839286</td>\n",
       "      <td>244780.857134</td>\n",
       "      <td>689.803571</td>\n",
       "      <td>128198.428574</td>\n",
       "      <td>694.589286</td>\n",
       "      <td>6.346386e+06</td>\n",
       "      <td>1196.071429</td>\n",
       "      <td>...</td>\n",
       "      <td>70.0</td>\n",
       "      <td>2667.0</td>\n",
       "      <td>1.0</td>\n",
       "      <td>0.0</td>\n",
       "      <td>0.0</td>\n",
       "      <td>0.0</td>\n",
       "      <td>0.0</td>\n",
       "      <td>0.0</td>\n",
       "      <td>2133.0</td>\n",
       "      <td>408.0</td>\n",
       "    </tr>\n",
       "    <tr>\n",
       "      <th>2019-05-31</th>\n",
       "      <td>10998.22</td>\n",
       "      <td>1777.05</td>\n",
       "      <td>4.404066e+05</td>\n",
       "      <td>1483.582143</td>\n",
       "      <td>230568.142857</td>\n",
       "      <td>783.082143</td>\n",
       "      <td>127699.142858</td>\n",
       "      <td>795.682143</td>\n",
       "      <td>6.216899e+06</td>\n",
       "      <td>1081.735714</td>\n",
       "      <td>...</td>\n",
       "      <td>75.0</td>\n",
       "      <td>3365.0</td>\n",
       "      <td>1.0</td>\n",
       "      <td>0.0</td>\n",
       "      <td>0.0</td>\n",
       "      <td>0.0</td>\n",
       "      <td>0.0</td>\n",
       "      <td>0.0</td>\n",
       "      <td>3350.0</td>\n",
       "      <td>1217.0</td>\n",
       "    </tr>\n",
       "    <tr>\n",
       "      <th>2019-06-30</th>\n",
       "      <td>11563.93</td>\n",
       "      <td>1715.21</td>\n",
       "      <td>4.205946e+05</td>\n",
       "      <td>1381.389286</td>\n",
       "      <td>208053.428570</td>\n",
       "      <td>718.253571</td>\n",
       "      <td>118468.714286</td>\n",
       "      <td>725.625000</td>\n",
       "      <td>6.315195e+06</td>\n",
       "      <td>907.400000</td>\n",
       "      <td>...</td>\n",
       "      <td>83.0</td>\n",
       "      <td>3779.0</td>\n",
       "      <td>1.0</td>\n",
       "      <td>0.0</td>\n",
       "      <td>1.0</td>\n",
       "      <td>0.0</td>\n",
       "      <td>0.0</td>\n",
       "      <td>0.0</td>\n",
       "      <td>3877.0</td>\n",
       "      <td>527.0</td>\n",
       "    </tr>\n",
       "    <tr>\n",
       "      <th>2019-07-31</th>\n",
       "      <td>11059.00</td>\n",
       "      <td>1712.73</td>\n",
       "      <td>4.743050e+05</td>\n",
       "      <td>1582.257143</td>\n",
       "      <td>186941.571428</td>\n",
       "      <td>993.878571</td>\n",
       "      <td>101660.000000</td>\n",
       "      <td>674.457143</td>\n",
       "      <td>6.316187e+06</td>\n",
       "      <td>1089.150000</td>\n",
       "      <td>...</td>\n",
       "      <td>79.0</td>\n",
       "      <td>4538.0</td>\n",
       "      <td>1.0</td>\n",
       "      <td>0.0</td>\n",
       "      <td>0.0</td>\n",
       "      <td>0.0</td>\n",
       "      <td>0.0</td>\n",
       "      <td>0.0</td>\n",
       "      <td>4012.0</td>\n",
       "      <td>135.0</td>\n",
       "    </tr>\n",
       "  </tbody>\n",
       "</table>\n",
       "<p>31 rows × 129 columns</p>\n",
       "</div>"
      ],
      "text/plain": [
       "             grp_A_1  grp_B_1       grp_A_2      grp_B_2        grp_A_3  \\\n",
       "date                                                                      \n",
       "2017-01-31   3787.07   245.03  9.231771e+04   219.375000   57287.428570   \n",
       "2017-02-28   3874.51   241.96  9.544829e+04   216.160714   57956.714286   \n",
       "2017-03-31   3961.93   238.89  9.857886e+04   212.946429   58626.000000   \n",
       "2017-04-30   4167.79   236.02  1.033969e+05   209.596429   60308.428570   \n",
       "2017-05-31   4373.64   233.17  1.082149e+05   206.246429   61990.857140   \n",
       "2017-06-30   4466.93   231.06  1.108686e+05   204.139286   62795.571430   \n",
       "2017-07-31  11960.71  1304.92  2.729703e+05  1192.407143  224378.285710   \n",
       "2017-08-31  12054.00  1302.82  2.756240e+05  1190.300000  225183.000000   \n",
       "2017-09-30  11664.50  1246.19  2.672320e+05  1138.175000  216721.000000   \n",
       "2017-10-31  24798.71  1020.29  6.350609e+05   906.321429  334843.142860   \n",
       "2017-11-30  36807.71   939.83  8.658177e+05   769.557143  427037.571430   \n",
       "2017-12-31  24071.50   950.95  7.003820e+05   814.925000  322660.000000   \n",
       "2018-01-31  39944.16  1154.92  1.198935e+06   927.328571  348959.999996   \n",
       "2018-02-28  39199.79  1016.02  1.190444e+06   821.896429  355103.428581   \n",
       "2018-03-31  38240.14  1161.89  1.300890e+06   956.657143  406393.285716   \n",
       "2018-04-30  18199.77  1854.20  7.042399e+05  1609.389286  315588.428572   \n",
       "2018-05-31  15799.29  2092.70  5.191943e+05  1782.857143  302763.428564   \n",
       "2018-06-30  15486.93  1790.59  4.732234e+05  1480.939286  255508.285710   \n",
       "2018-07-31  16174.43  2025.62  5.598976e+05  1877.392857  260192.714284   \n",
       "2018-08-31  14922.00  1960.53  5.067913e+05  1746.885714  244273.285714   \n",
       "2018-09-30  17149.00  1574.35  5.079740e+05  1396.050000  276557.000000   \n",
       "2018-10-31  30600.42  1342.81  8.839647e+05  1156.592857  396838.285720   \n",
       "2018-11-30  41310.57  1210.34  1.089731e+06   975.985714  473345.857140   \n",
       "2018-12-31  29222.64  1218.30  9.365660e+05  1015.746429  373283.857140   \n",
       "2019-01-31  35827.51   822.41  1.140056e+06   610.660714  283722.000004   \n",
       "2019-02-28  34683.92   703.77  1.117121e+06   527.303571  289235.857149   \n",
       "2019-03-31  33664.49   840.49  1.229891e+06   652.603571  337402.857146   \n",
       "2019-04-30  13417.79  1541.74  6.232423e+05  1314.839286  244780.857134   \n",
       "2019-05-31  10998.22  1777.05  4.404066e+05  1483.582143  230568.142857   \n",
       "2019-06-30  11563.93  1715.21  4.205946e+05  1381.389286  208053.428570   \n",
       "2019-07-31  11059.00  1712.73  4.743050e+05  1582.257143  186941.571428   \n",
       "\n",
       "                grp_B_3        grp_A_4     grp_B_4       grp_A_5      grp_B_5  \\\n",
       "date                                                                            \n",
       "2017-01-31   137.553571   26347.571430   77.553571  1.368979e+06   359.500000   \n",
       "2017-02-28   135.482143   27707.571424   77.696429  1.399663e+06   354.678571   \n",
       "2017-03-31   133.410714   29067.571429   77.839286  1.430348e+06   349.857143   \n",
       "2017-04-30   130.175000   30959.857143   77.689286  1.482163e+06   345.357143   \n",
       "2017-05-31   126.939286   32852.142857   77.539286  1.533978e+06   340.857143   \n",
       "2017-06-30   125.617857   33902.428571   77.717857  1.560063e+06   340.821429   \n",
       "2017-07-31   767.921429   57315.714286  370.021429  4.824280e+06  1884.535714   \n",
       "2017-08-31   766.600000   58366.000000  370.200000  4.850365e+06  1884.500000   \n",
       "2017-09-30   732.725000   57189.000000  354.825000  4.679937e+06  1803.250000   \n",
       "2017-10-31   585.107143  200580.000000  392.964286  8.396860e+06  1866.357143   \n",
       "2017-11-30   370.542857  291471.142860  354.228571  1.116775e+07  1314.285714   \n",
       "2017-12-31   524.975000  240423.000000  404.575000  9.101860e+06  1324.500000   \n",
       "2018-01-31   602.357143  313461.285711  360.471429  7.774497e+06  1104.928571   \n",
       "2018-02-28   511.703571  318397.857142  390.725000  8.940757e+06  1037.871429   \n",
       "2018-03-31   632.114286  296254.285706  433.850000  1.022502e+07  1288.342857   \n",
       "2018-04-30   864.346429  139641.142862  788.232143  7.604119e+06  1879.028571   \n",
       "2018-05-31   959.007143  139245.571430  893.057143  7.456194e+06  1786.492857   \n",
       "2018-06-30   790.125000  124701.714287  725.382143  6.925799e+06  1423.300000   \n",
       "2018-07-31  1173.192857  115292.714286  767.778571  7.616375e+06  1779.150000   \n",
       "2018-08-31   853.650000  113960.714286  817.657143  6.801241e+06  1969.242857   \n",
       "2018-09-30   863.700000  127832.000000  520.050000  6.824872e+06  1768.200000   \n",
       "2018-10-31   707.714286  274833.000000  557.078571  1.063508e+07  1801.164286   \n",
       "2018-11-30   473.464286  358275.714290  505.542857  1.303661e+07  1196.378571   \n",
       "2018-12-31   619.003571  311125.428570  552.889286  1.106874e+07  1188.485714   \n",
       "2019-01-31   406.596429  309852.428572  267.025000  6.746311e+06   397.764286   \n",
       "2019-02-28   332.382143  306329.428563  297.775000  7.777609e+06   390.442857   \n",
       "2019-03-31   448.403571  287696.428576  339.989286  9.053643e+06   589.450000   \n",
       "2019-04-30   689.803571  128198.428574  694.589286  6.346386e+06  1196.071429   \n",
       "2019-05-31   783.082143  127699.142858  795.682143  6.216899e+06  1081.735714   \n",
       "2019-06-30   718.253571  118468.714286  725.625000  6.315195e+06   907.400000   \n",
       "2019-07-31   993.878571  101660.000000  674.457143  6.316187e+06  1089.150000   \n",
       "\n",
       "            ...  Dayofweek  Dayofyear  Is_month_end  Is_month_start  \\\n",
       "date        ...                                                       \n",
       "2017-01-31  ...       17.0     1371.0           0.0             5.0   \n",
       "2017-02-28  ...       15.0     1376.0           0.0             0.0   \n",
       "2017-03-31  ...       20.0     1381.0           0.0             0.0   \n",
       "2017-04-30  ...       11.0     1386.0           0.0             0.0   \n",
       "2017-05-31  ...       16.0     1391.0           0.0             0.0   \n",
       "2017-06-30  ...       14.0     1396.0           0.0             0.0   \n",
       "2017-07-31  ...       72.0     5258.0           1.0             0.0   \n",
       "2017-08-31  ...       71.0     5852.0           1.0             0.0   \n",
       "2017-09-30  ...       71.0     6172.0           1.0             0.0   \n",
       "2017-10-31  ...       78.0     7021.0           1.0             0.0   \n",
       "2017-11-30  ...       60.0     7472.0           1.0             0.0   \n",
       "2017-12-31  ...       80.0     8383.0           1.0             0.0   \n",
       "2018-01-31  ...       94.0     2428.0           1.0            12.0   \n",
       "2018-02-28  ...       81.0     2846.0           1.0             0.0   \n",
       "2018-03-31  ...       91.0     3573.0           1.0             0.0   \n",
       "2018-04-30  ...       96.0     4053.0           1.0             0.0   \n",
       "2018-05-31  ...       84.0     4756.0           1.0             0.0   \n",
       "2018-06-30  ...       82.0     4680.0           1.0             0.0   \n",
       "2018-07-31  ...       98.0     5939.0           1.0             0.0   \n",
       "2018-08-31  ...       90.0     6540.0           1.0             0.0   \n",
       "2018-09-30  ...       96.0     6867.0           1.0             0.0   \n",
       "2018-10-31  ...       90.0     7723.0           1.0             0.0   \n",
       "2018-11-30  ...       91.0     7989.0           1.0             0.0   \n",
       "2018-12-31  ...       90.0     8906.0           1.0             0.0   \n",
       "2019-01-31  ...       70.0     1057.0           1.0             7.0   \n",
       "2019-02-28  ...       70.0     1470.0           1.0             0.0   \n",
       "2019-03-31  ...       85.0     2192.0           1.0             0.0   \n",
       "2019-04-30  ...       70.0     2667.0           1.0             0.0   \n",
       "2019-05-31  ...       75.0     3365.0           1.0             0.0   \n",
       "2019-06-30  ...       83.0     3779.0           1.0             0.0   \n",
       "2019-07-31  ...       79.0     4538.0           1.0             0.0   \n",
       "\n",
       "            Is_quarter_end  Is_quarter_start  Is_year_end  Is_year_start  \\\n",
       "date                                                                       \n",
       "2017-01-31             0.0               1.0          0.0            0.0   \n",
       "2017-02-28             0.0               0.0          0.0            0.0   \n",
       "2017-03-31             0.0               0.0          0.0            0.0   \n",
       "2017-04-30             0.0               0.0          0.0            0.0   \n",
       "2017-05-31             0.0               0.0          0.0            0.0   \n",
       "2017-06-30             0.0               0.0          0.0            0.0   \n",
       "2017-07-31             0.0               0.0          0.0            0.0   \n",
       "2017-08-31             0.0               0.0          0.0            0.0   \n",
       "2017-09-30             1.0               0.0          0.0            0.0   \n",
       "2017-10-31             0.0               0.0          0.0            0.0   \n",
       "2017-11-30             0.0               0.0          0.0            0.0   \n",
       "2017-12-31             1.0               0.0          1.0            0.0   \n",
       "2018-01-31             0.0               4.0          0.0            1.0   \n",
       "2018-02-28             0.0               0.0          0.0            0.0   \n",
       "2018-03-31             1.0               0.0          0.0            0.0   \n",
       "2018-04-30             0.0               0.0          0.0            0.0   \n",
       "2018-05-31             0.0               0.0          0.0            0.0   \n",
       "2018-06-30             1.0               0.0          0.0            0.0   \n",
       "2018-07-31             0.0               0.0          0.0            0.0   \n",
       "2018-08-31             0.0               0.0          0.0            0.0   \n",
       "2018-09-30             1.0               0.0          0.0            0.0   \n",
       "2018-10-31             0.0               0.0          0.0            0.0   \n",
       "2018-11-30             0.0               0.0          0.0            0.0   \n",
       "2018-12-31             1.0               0.0          1.0            0.0   \n",
       "2019-01-31             0.0               3.0          0.0            1.0   \n",
       "2019-02-28             0.0               0.0          0.0            0.0   \n",
       "2019-03-31             1.0               0.0          0.0            0.0   \n",
       "2019-04-30             0.0               0.0          0.0            0.0   \n",
       "2019-05-31             0.0               0.0          0.0            0.0   \n",
       "2019-06-30             1.0               0.0          0.0            0.0   \n",
       "2019-07-31             0.0               0.0          0.0            0.0   \n",
       "\n",
       "             sales  Sales first difference  \n",
       "date                                        \n",
       "2017-01-31   173.0                     NaN  \n",
       "2017-02-28   172.0                    -1.0  \n",
       "2017-03-31   166.0                    -6.0  \n",
       "2017-04-30   148.0                   -18.0  \n",
       "2017-05-31   150.0                     2.0  \n",
       "2017-06-30   137.0                   -13.0  \n",
       "2017-07-31   981.0                   844.0  \n",
       "2017-08-31   437.0                  -544.0  \n",
       "2017-09-30   219.0                  -218.0  \n",
       "2017-10-31   405.0                   186.0  \n",
       "2017-11-30  1297.0                   892.0  \n",
       "2017-12-31   646.0                  -651.0  \n",
       "2018-01-31  1734.0                  1088.0  \n",
       "2018-02-28  1900.0                   166.0  \n",
       "2018-03-31  1572.0                  -328.0  \n",
       "2018-04-30  1983.0                   411.0  \n",
       "2018-05-31  4525.0                  2542.0  \n",
       "2018-06-30  3207.0                 -1318.0  \n",
       "2018-07-31  3228.0                    21.0  \n",
       "2018-08-31  4747.0                  1519.0  \n",
       "2018-09-30  3656.0                 -1091.0  \n",
       "2018-10-31  2306.0                 -1350.0  \n",
       "2018-11-30  2169.0                  -137.0  \n",
       "2018-12-31  1685.0                  -484.0  \n",
       "2019-01-31  1323.0                  -362.0  \n",
       "2019-02-28  1165.0                  -158.0  \n",
       "2019-03-31  1725.0                   560.0  \n",
       "2019-04-30  2133.0                   408.0  \n",
       "2019-05-31  3350.0                  1217.0  \n",
       "2019-06-30  3877.0                   527.0  \n",
       "2019-07-31  4012.0                   135.0  \n",
       "\n",
       "[31 rows x 129 columns]"
      ]
     },
     "metadata": {},
     "execution_count": 47
    }
   ],
   "metadata": {}
  },
  {
   "cell_type": "code",
   "execution_count": 57,
   "source": [
    "train_arima = df.resample(\"W\").mean() \r\n",
    "train_arima = train_arima[[\"Sales first difference\"]]\r\n",
    "train_arima.plot();"
   ],
   "outputs": [
    {
     "output_type": "display_data",
     "data": {
      "image/png": "[encoded data removed]",
      "text/plain": [
       "<Figure size 432x288 with 1 Axes>"
      ]
     },
     "metadata": {
      "needs_background": "light"
     }
    }
   ],
   "metadata": {}
  },
  {
   "cell_type": "code",
   "execution_count": 55,
   "source": [
    "# Determing p,d,q combinations with AIC scores.\r\n",
    "for param in pdq:\r\n",
    "    for param_seasonal in seasonal_pdq:\r\n",
    "        try:\r\n",
    "            mod = sm.tsa.statespace.SARIMAX(train_arima,\r\n",
    "                                            order=param,\r\n",
    "                                            seasonal_order=param_seasonal,\r\n",
    "                                            enforce_stationarity=False,\r\n",
    "                                            enforce_invertibility=False)\r\n",
    "\r\n",
    "            results = mod.fit()\r\n",
    "\r\n",
    "            print('ARIMA{}x{}12 - AIC:{}'.format(param, param_seasonal, results.aic))\r\n",
    "        except:\r\n",
    "            continue"
   ],
   "outputs": [
    {
     "output_type": "stream",
     "name": "stdout",
     "text": [
      "ARIMA(0, 0, 0)x(0, 0, 0, 12)12 - AIC:489.41702323359743\n",
      "ARIMA(0, 0, 0)x(0, 0, 1, 12)12 - AIC:445.17719450841105\n",
      "ARIMA(0, 0, 0)x(0, 1, 0, 12)12 - AIC:466.0053813703728\n",
      "ARIMA(0, 0, 0)x(0, 1, 1, 12)12 - AIC:436.7617665873525\n",
      "ARIMA(0, 0, 0)x(1, 0, 0, 12)12 - AIC:460.8020311131493\n",
      "ARIMA(0, 0, 0)x(1, 0, 1, 12)12 - AIC:447.1726289543283\n",
      "ARIMA(0, 0, 0)x(1, 1, 0, 12)12 - AIC:699431251844.9552\n",
      "ARIMA(0, 0, 0)x(1, 1, 1, 12)12 - AIC:687.099424319862\n",
      "ARIMA(0, 0, 1)x(0, 0, 0, 12)12 - AIC:491.4133761613367\n",
      "ARIMA(0, 0, 1)x(0, 0, 1, 12)12 - AIC:443.6664681702317\n",
      "ARIMA(0, 0, 1)x(0, 1, 0, 12)12 - AIC:467.86573263432376\n",
      "ARIMA(0, 0, 1)x(0, 1, 1, 12)12 - AIC:438.64944070404056\n",
      "ARIMA(0, 0, 1)x(1, 0, 0, 12)12 - AIC:460.094328001757\n",
      "ARIMA(0, 0, 1)x(1, 0, 1, 12)12 - AIC:445.40413524570664\n",
      "ARIMA(0, 0, 1)x(1, 1, 0, 12)12 - AIC:753.9514104653434\n",
      "ARIMA(0, 0, 1)x(1, 1, 1, 12)12 - AIC:471.42837817394076\n",
      "ARIMA(0, 1, 0)x(0, 0, 0, 12)12 - AIC:691.295370019003\n",
      "ARIMA(0, 1, 0)x(0, 0, 1, 12)12 - AIC:464.3730560453093\n",
      "ARIMA(0, 1, 0)x(0, 1, 0, 12)12 - AIC:1458.5456250517243\n",
      "ARIMA(0, 1, 0)x(0, 1, 1, 12)12 - AIC:446.9548263777502\n",
      "ARIMA(0, 1, 0)x(1, 0, 0, 12)12 - AIC:nan\n",
      "ARIMA(0, 1, 0)x(1, 0, 1, 12)12 - AIC:467.13025770823225\n",
      "ARIMA(0, 1, 0)x(1, 1, 0, 12)12 - AIC:nan\n",
      "ARIMA(0, 1, 0)x(1, 1, 1, 12)12 - AIC:448.5327505658425\n",
      "ARIMA(0, 1, 1)x(0, 0, 0, 12)12 - AIC:517.7642480236904\n",
      "ARIMA(0, 1, 1)x(0, 0, 1, 12)12 - AIC:465.5436134724479\n",
      "ARIMA(0, 1, 1)x(0, 1, 0, 12)12 - AIC:479.64514407450497\n",
      "ARIMA(0, 1, 1)x(0, 1, 1, 12)12 - AIC:431.7667631453826\n",
      "ARIMA(0, 1, 1)x(1, 0, 0, 12)12 - AIC:467.72131035336525\n",
      "ARIMA(0, 1, 1)x(1, 0, 1, 12)12 - AIC:467.2018533626363\n",
      "ARIMA(0, 1, 1)x(1, 1, 0, 12)12 - AIC:448.8491167751216\n",
      "ARIMA(0, 1, 1)x(1, 1, 1, 12)12 - AIC:433.26827162233184\n",
      "ARIMA(1, 0, 0)x(0, 0, 0, 12)12 - AIC:491.42054639477936\n",
      "ARIMA(1, 0, 0)x(0, 0, 1, 12)12 - AIC:444.26472229727483\n",
      "ARIMA(1, 0, 0)x(0, 1, 0, 12)12 - AIC:756.4139855357139\n",
      "ARIMA(1, 0, 0)x(0, 1, 1, 12)12 - AIC:436.9671273389825\n",
      "ARIMA(1, 0, 0)x(1, 0, 0, 12)12 - AIC:445.6582052777266\n",
      "ARIMA(1, 0, 0)x(1, 0, 1, 12)12 - AIC:445.8740556638884\n",
      "ARIMA(1, 0, 0)x(1, 1, 0, 12)12 - AIC:683929089435.6652\n",
      "ARIMA(1, 0, 0)x(1, 1, 1, 12)12 - AIC:701.2115325815846\n",
      "ARIMA(1, 0, 1)x(0, 0, 0, 12)12 - AIC:493.0626199505135\n",
      "ARIMA(1, 0, 1)x(0, 0, 1, 12)12 - AIC:445.9707618205341\n",
      "ARIMA(1, 0, 1)x(0, 1, 0, 12)12 - AIC:486.93102069847424\n",
      "ARIMA(1, 0, 1)x(0, 1, 1, 12)12 - AIC:438.73546150469156\n",
      "ARIMA(1, 0, 1)x(1, 0, 0, 12)12 - AIC:447.39078879506656\n",
      "ARIMA(1, 0, 1)x(1, 0, 1, 12)12 - AIC:447.8789980298617\n",
      "ARIMA(1, 0, 1)x(1, 1, 0, 12)12 - AIC:700.6125704688052\n",
      "ARIMA(1, 0, 1)x(1, 1, 1, 12)12 - AIC:683878292848.3817\n",
      "ARIMA(1, 1, 0)x(0, 0, 0, 12)12 - AIC:nan\n",
      "ARIMA(1, 1, 0)x(0, 0, 1, 12)12 - AIC:nan\n",
      "ARIMA(1, 1, 0)x(0, 1, 0, 12)12 - AIC:nan\n",
      "ARIMA(1, 1, 0)x(0, 1, 1, 12)12 - AIC:nan\n",
      "ARIMA(1, 1, 0)x(1, 0, 0, 12)12 - AIC:nan\n",
      "ARIMA(1, 1, 0)x(1, 0, 1, 12)12 - AIC:nan\n",
      "ARIMA(1, 1, 0)x(1, 1, 0, 12)12 - AIC:nan\n",
      "ARIMA(1, 1, 0)x(1, 1, 1, 12)12 - AIC:nan\n",
      "ARIMA(1, 1, 1)x(0, 0, 0, 12)12 - AIC:515.7043953137916\n",
      "ARIMA(1, 1, 1)x(0, 0, 1, 12)12 - AIC:465.1652914334496\n",
      "ARIMA(1, 1, 1)x(0, 1, 0, 12)12 - AIC:481.20270511771355\n",
      "ARIMA(1, 1, 1)x(0, 1, 1, 12)12 - AIC:433.2771818562925\n",
      "ARIMA(1, 1, 1)x(1, 0, 0, 12)12 - AIC:467.64889799801983\n",
      "ARIMA(1, 1, 1)x(1, 0, 1, 12)12 - AIC:466.2583244135594\n",
      "ARIMA(1, 1, 1)x(1, 1, 0, 12)12 - AIC:450.87663541049835\n",
      "ARIMA(1, 1, 1)x(1, 1, 1, 12)12 - AIC:434.99641516766206\n"
     ]
    }
   ],
   "metadata": {}
  },
  {
   "cell_type": "markdown",
   "source": [
    "#### The best combination was ARIMA(0, 1, 1) x (0, 1, 1, 12)12 - AIC:431.7667631453826"
   ],
   "metadata": {}
  },
  {
   "cell_type": "code",
   "execution_count": 56,
   "source": [
    "\r\n",
    "# Fitting the data to SARIMA model \r\n",
    "model_sarima = sm.tsa.statespace.SARIMAX(train_arima,\r\n",
    "                                order=(0, 1, 1),\r\n",
    "                                seasonal_order=(0, 1, 1, 12),\r\n",
    "                                enforce_stationarity=False,\r\n",
    "                                enforce_invertibility=False)\r\n",
    "\r\n",
    "results_sarima = model_sarima.fit()\r\n",
    "\r\n",
    "print(results_sarima.summary().tables[1])"
   ],
   "outputs": [
    {
     "output_type": "stream",
     "name": "stdout",
     "text": [
      "==============================================================================\n",
      "                 coef    std err          z      P>|z|      [0.025      0.975]\n",
      "------------------------------------------------------------------------------\n",
      "ma.L1         33.2638    646.141      0.051      0.959   -1233.149    1299.677\n",
      "ma.S.L12       8.7991     37.519      0.235      0.815     -64.737      82.335\n",
      "sigma2         3.1026    127.396      0.024      0.981    -246.588     252.793\n",
      "==============================================================================\n"
     ]
    }
   ],
   "metadata": {}
  },
  {
   "cell_type": "code",
   "execution_count": 58,
   "source": [
    "# Checking diagnostic plots\r\n",
    "results_sarima.plot_diagnostics(figsize=(10, 10))\r\n",
    "plt.show()"
   ],
   "outputs": [
    {
     "output_type": "display_data",
     "data": {
      "image/png": "[encoded data removed]",
      "text/plain": [
       "<Figure size 720x720 with 4 Axes>"
      ]
     },
     "metadata": {
      "needs_background": "light"
     }
    }
   ],
   "metadata": {}
  }
 ],
 "metadata": {
  "orig_nbformat": 4,
  "language_info": {
   "name": "python",
   "version": "3.8.5",
   "mimetype": "text/x-python",
   "codemirror_mode": {
    "name": "ipython",
    "version": 3
   },
   "pygments_lexer": "ipython3",
   "nbconvert_exporter": "python",
   "file_extension": ".py"
  },
  "kernelspec": {
   "name": "python3",
   "display_name": "Python 3.8.5 64-bit ('base': conda)"
  },
  "interpreter": {
   "hash": "66e4a4b7c121db4243309d1eb7f3fba70ad006b305f754897095e92fca8ac47b"
  }
 },
 "nbformat": 4,
 "nbformat_minor": 2
}